{
 "cells": [
  {
   "cell_type": "code",
   "execution_count": 22,
   "metadata": {},
   "outputs": [],
   "source": [
    "import pandas as pd\n",
    "import numpy as np\n",
    "import matplotlib.pyplot as plt\n",
    "import seaborn as sns\n",
    "\n",
    "%matplotlib inline"
   ]
  },
  {
   "cell_type": "code",
   "execution_count": 6,
   "metadata": {},
   "outputs": [
    {
     "data": {
      "text/plain": [
       "Index(['CustomerID', 'Title', 'FirstName', 'MiddleName', 'LastName', 'Suffix',\n",
       "       'AddressLine1', 'AddressLine2', 'City', 'StateProvinceName',\n",
       "       'CountryRegionName', 'PostalCode', 'PhoneNumber', 'BirthDate',\n",
       "       'Education', 'Occupation', 'Gender', 'MaritalStatus', 'HomeOwnerFlag',\n",
       "       'NumberCarsOwned', 'NumberChildrenAtHome', 'TotalChildren',\n",
       "       'YearlyIncome', 'AveMonthSpend', 'BikeBuyer'],\n",
       "      dtype='object')"
      ]
     },
     "execution_count": 6,
     "metadata": {},
     "output_type": "execute_result"
    }
   ],
   "source": [
    "adv_works = pd.read_csv('AdvWorksCusts.csv')\n",
    "adv_month_spend = pd.read_csv('AW_AveMonthSpend.csv')\n",
    "bike_buyer= pd.read_csv('AW_BikeBuyer.csv')\n",
    "merged_df1=pd.merge(adv_works, adv_month_spend, how=\"left\", on='CustomerID')\n",
    "merged_df=pd.merge(merged_df1, bike_buyer, how=\"left\", on='CustomerID')\n",
    "#merged_df=pd.merge(merged_df2, income_year, how=\"left\", on='CustomerID')\n",
    "test_data= pd.read_csv('AW_test.csv')\n",
    "\n",
    "merged_df.columns"
   ]
  },
  {
   "cell_type": "code",
   "execution_count": 7,
   "metadata": {},
   "outputs": [
    {
     "data": {
      "text/html": [
       "<div>\n",
       "<style scoped>\n",
       "    .dataframe tbody tr th:only-of-type {\n",
       "        vertical-align: middle;\n",
       "    }\n",
       "\n",
       "    .dataframe tbody tr th {\n",
       "        vertical-align: top;\n",
       "    }\n",
       "\n",
       "    .dataframe thead th {\n",
       "        text-align: right;\n",
       "    }\n",
       "</style>\n",
       "<table border=\"1\" class=\"dataframe\">\n",
       "  <thead>\n",
       "    <tr style=\"text-align: right;\">\n",
       "      <th></th>\n",
       "      <th>CustomerID</th>\n",
       "      <th>Title</th>\n",
       "      <th>FirstName</th>\n",
       "      <th>MiddleName</th>\n",
       "      <th>LastName</th>\n",
       "      <th>Suffix</th>\n",
       "      <th>AddressLine1</th>\n",
       "      <th>AddressLine2</th>\n",
       "      <th>City</th>\n",
       "      <th>StateProvinceName</th>\n",
       "      <th>...</th>\n",
       "      <th>BirthDate</th>\n",
       "      <th>Education</th>\n",
       "      <th>Occupation</th>\n",
       "      <th>Gender</th>\n",
       "      <th>MaritalStatus</th>\n",
       "      <th>HomeOwnerFlag</th>\n",
       "      <th>NumberCarsOwned</th>\n",
       "      <th>NumberChildrenAtHome</th>\n",
       "      <th>TotalChildren</th>\n",
       "      <th>YearlyIncome</th>\n",
       "    </tr>\n",
       "  </thead>\n",
       "  <tbody>\n",
       "    <tr>\n",
       "      <th>0</th>\n",
       "      <td>18988</td>\n",
       "      <td>NaN</td>\n",
       "      <td>Courtney</td>\n",
       "      <td>A</td>\n",
       "      <td>Baker</td>\n",
       "      <td>NaN</td>\n",
       "      <td>8727 Buena Vista Ave.</td>\n",
       "      <td>NaN</td>\n",
       "      <td>Fremont</td>\n",
       "      <td>California</td>\n",
       "      <td>...</td>\n",
       "      <td>1/5/1945</td>\n",
       "      <td>Bachelors</td>\n",
       "      <td>Management</td>\n",
       "      <td>F</td>\n",
       "      <td>S</td>\n",
       "      <td>0</td>\n",
       "      <td>2</td>\n",
       "      <td>0</td>\n",
       "      <td>5</td>\n",
       "      <td>86931</td>\n",
       "    </tr>\n",
       "    <tr>\n",
       "      <th>1</th>\n",
       "      <td>29135</td>\n",
       "      <td>NaN</td>\n",
       "      <td>Adam</td>\n",
       "      <td>C</td>\n",
       "      <td>Allen</td>\n",
       "      <td>NaN</td>\n",
       "      <td>3491 Cook Street</td>\n",
       "      <td>NaN</td>\n",
       "      <td>Haney</td>\n",
       "      <td>British Columbia</td>\n",
       "      <td>...</td>\n",
       "      <td>10/4/1964</td>\n",
       "      <td>Bachelors</td>\n",
       "      <td>Skilled Manual</td>\n",
       "      <td>M</td>\n",
       "      <td>M</td>\n",
       "      <td>1</td>\n",
       "      <td>2</td>\n",
       "      <td>2</td>\n",
       "      <td>4</td>\n",
       "      <td>100125</td>\n",
       "    </tr>\n",
       "    <tr>\n",
       "      <th>2</th>\n",
       "      <td>12156</td>\n",
       "      <td>NaN</td>\n",
       "      <td>Bonnie</td>\n",
       "      <td>NaN</td>\n",
       "      <td>Raji</td>\n",
       "      <td>NaN</td>\n",
       "      <td>359 Pleasant Hill Rd</td>\n",
       "      <td>NaN</td>\n",
       "      <td>Burbank</td>\n",
       "      <td>California</td>\n",
       "      <td>...</td>\n",
       "      <td>1/12/1934</td>\n",
       "      <td>Graduate Degree</td>\n",
       "      <td>Management</td>\n",
       "      <td>F</td>\n",
       "      <td>M</td>\n",
       "      <td>1</td>\n",
       "      <td>2</td>\n",
       "      <td>0</td>\n",
       "      <td>4</td>\n",
       "      <td>103985</td>\n",
       "    </tr>\n",
       "    <tr>\n",
       "      <th>3</th>\n",
       "      <td>13749</td>\n",
       "      <td>NaN</td>\n",
       "      <td>Julio</td>\n",
       "      <td>C</td>\n",
       "      <td>Alonso</td>\n",
       "      <td>NaN</td>\n",
       "      <td>8945 Euclid Ave.</td>\n",
       "      <td>NaN</td>\n",
       "      <td>Burlingame</td>\n",
       "      <td>California</td>\n",
       "      <td>...</td>\n",
       "      <td>9/22/1958</td>\n",
       "      <td>Graduate Degree</td>\n",
       "      <td>Skilled Manual</td>\n",
       "      <td>M</td>\n",
       "      <td>M</td>\n",
       "      <td>1</td>\n",
       "      <td>0</td>\n",
       "      <td>0</td>\n",
       "      <td>4</td>\n",
       "      <td>127161</td>\n",
       "    </tr>\n",
       "    <tr>\n",
       "      <th>4</th>\n",
       "      <td>27780</td>\n",
       "      <td>NaN</td>\n",
       "      <td>Christy</td>\n",
       "      <td>A</td>\n",
       "      <td>Andersen</td>\n",
       "      <td>NaN</td>\n",
       "      <td>42, boulevard Tremblay</td>\n",
       "      <td>NaN</td>\n",
       "      <td>Dunkerque</td>\n",
       "      <td>Nord</td>\n",
       "      <td>...</td>\n",
       "      <td>3/19/1965</td>\n",
       "      <td>High School</td>\n",
       "      <td>Manual</td>\n",
       "      <td>F</td>\n",
       "      <td>M</td>\n",
       "      <td>1</td>\n",
       "      <td>1</td>\n",
       "      <td>2</td>\n",
       "      <td>2</td>\n",
       "      <td>21876</td>\n",
       "    </tr>\n",
       "  </tbody>\n",
       "</table>\n",
       "<p>5 rows × 23 columns</p>\n",
       "</div>"
      ],
      "text/plain": [
       "   CustomerID Title FirstName MiddleName  LastName Suffix  \\\n",
       "0       18988   NaN  Courtney          A     Baker    NaN   \n",
       "1       29135   NaN      Adam          C     Allen    NaN   \n",
       "2       12156   NaN    Bonnie        NaN      Raji    NaN   \n",
       "3       13749   NaN     Julio          C    Alonso    NaN   \n",
       "4       27780   NaN   Christy          A  Andersen    NaN   \n",
       "\n",
       "             AddressLine1 AddressLine2        City StateProvinceName  \\\n",
       "0   8727 Buena Vista Ave.          NaN     Fremont        California   \n",
       "1        3491 Cook Street          NaN       Haney  British Columbia   \n",
       "2    359 Pleasant Hill Rd          NaN     Burbank        California   \n",
       "3        8945 Euclid Ave.          NaN  Burlingame        California   \n",
       "4  42, boulevard Tremblay          NaN   Dunkerque              Nord   \n",
       "\n",
       "       ...       BirthDate        Education      Occupation Gender  \\\n",
       "0      ...        1/5/1945       Bachelors       Management      F   \n",
       "1      ...       10/4/1964       Bachelors   Skilled Manual      M   \n",
       "2      ...       1/12/1934  Graduate Degree      Management      F   \n",
       "3      ...       9/22/1958  Graduate Degree  Skilled Manual      M   \n",
       "4      ...       3/19/1965      High School          Manual      F   \n",
       "\n",
       "  MaritalStatus HomeOwnerFlag NumberCarsOwned NumberChildrenAtHome  \\\n",
       "0             S             0               2                    0   \n",
       "1             M             1               2                    2   \n",
       "2             M             1               2                    0   \n",
       "3             M             1               0                    0   \n",
       "4             M             1               1                    2   \n",
       "\n",
       "   TotalChildren  YearlyIncome  \n",
       "0              5         86931  \n",
       "1              4        100125  \n",
       "2              4        103985  \n",
       "3              4        127161  \n",
       "4              2         21876  \n",
       "\n",
       "[5 rows x 23 columns]"
      ]
     },
     "execution_count": 7,
     "metadata": {},
     "output_type": "execute_result"
    }
   ],
   "source": [
    "test_data.head()"
   ]
  },
  {
   "cell_type": "code",
   "execution_count": 11,
   "metadata": {},
   "outputs": [],
   "source": [
    "merged_final=merged_df.drop(['Title','FirstName','MiddleName','LastName','Suffix',\n",
    "                        'AddressLine1','AddressLine2','StateProvinceName',\n",
    "       'CountryRegionName', 'PostalCode','AveMonthSpend', 'PhoneNumber'], axis=1)\n",
    "\n",
    "\n",
    "test=test_data.drop(['Title','FirstName','MiddleName','LastName','Suffix',\n",
    "                        'AddressLine1','AddressLine2','StateProvinceName',\n",
    "       'CountryRegionName', 'PostalCode', 'PhoneNumber'], axis=1)"
   ]
  },
  {
   "cell_type": "markdown",
   "metadata": {},
   "source": [
    "## EXPLORATION ANALYSIS"
   ]
  },
  {
   "cell_type": "code",
   "execution_count": 12,
   "metadata": {},
   "outputs": [
    {
     "data": {
      "text/html": [
       "<div>\n",
       "<style scoped>\n",
       "    .dataframe tbody tr th:only-of-type {\n",
       "        vertical-align: middle;\n",
       "    }\n",
       "\n",
       "    .dataframe tbody tr th {\n",
       "        vertical-align: top;\n",
       "    }\n",
       "\n",
       "    .dataframe thead th {\n",
       "        text-align: right;\n",
       "    }\n",
       "</style>\n",
       "<table border=\"1\" class=\"dataframe\">\n",
       "  <thead>\n",
       "    <tr style=\"text-align: right;\">\n",
       "      <th></th>\n",
       "      <th>CustomerID</th>\n",
       "      <th>City</th>\n",
       "      <th>BirthDate</th>\n",
       "      <th>Education</th>\n",
       "      <th>Occupation</th>\n",
       "      <th>Gender</th>\n",
       "      <th>MaritalStatus</th>\n",
       "      <th>HomeOwnerFlag</th>\n",
       "      <th>NumberCarsOwned</th>\n",
       "      <th>NumberChildrenAtHome</th>\n",
       "      <th>TotalChildren</th>\n",
       "      <th>YearlyIncome</th>\n",
       "      <th>BikeBuyer</th>\n",
       "    </tr>\n",
       "  </thead>\n",
       "  <tbody>\n",
       "    <tr>\n",
       "      <th>0</th>\n",
       "      <td>11000</td>\n",
       "      <td>Rockhampton</td>\n",
       "      <td>1966-04-08</td>\n",
       "      <td>Bachelors</td>\n",
       "      <td>Professional</td>\n",
       "      <td>M</td>\n",
       "      <td>M</td>\n",
       "      <td>1</td>\n",
       "      <td>0</td>\n",
       "      <td>0</td>\n",
       "      <td>2</td>\n",
       "      <td>137947</td>\n",
       "      <td>0</td>\n",
       "    </tr>\n",
       "    <tr>\n",
       "      <th>1</th>\n",
       "      <td>11001</td>\n",
       "      <td>Seaford</td>\n",
       "      <td>1965-05-14</td>\n",
       "      <td>Bachelors</td>\n",
       "      <td>Professional</td>\n",
       "      <td>M</td>\n",
       "      <td>S</td>\n",
       "      <td>0</td>\n",
       "      <td>1</td>\n",
       "      <td>3</td>\n",
       "      <td>3</td>\n",
       "      <td>101141</td>\n",
       "      <td>1</td>\n",
       "    </tr>\n",
       "    <tr>\n",
       "      <th>2</th>\n",
       "      <td>11002</td>\n",
       "      <td>Hobart</td>\n",
       "      <td>1965-08-12</td>\n",
       "      <td>Bachelors</td>\n",
       "      <td>Professional</td>\n",
       "      <td>M</td>\n",
       "      <td>M</td>\n",
       "      <td>1</td>\n",
       "      <td>1</td>\n",
       "      <td>3</td>\n",
       "      <td>3</td>\n",
       "      <td>91945</td>\n",
       "      <td>0</td>\n",
       "    </tr>\n",
       "    <tr>\n",
       "      <th>3</th>\n",
       "      <td>11003</td>\n",
       "      <td>North Ryde</td>\n",
       "      <td>1968-02-15</td>\n",
       "      <td>Bachelors</td>\n",
       "      <td>Professional</td>\n",
       "      <td>F</td>\n",
       "      <td>S</td>\n",
       "      <td>0</td>\n",
       "      <td>1</td>\n",
       "      <td>0</td>\n",
       "      <td>0</td>\n",
       "      <td>86688</td>\n",
       "      <td>0</td>\n",
       "    </tr>\n",
       "    <tr>\n",
       "      <th>4</th>\n",
       "      <td>11004</td>\n",
       "      <td>Wollongong</td>\n",
       "      <td>1968-08-08</td>\n",
       "      <td>Bachelors</td>\n",
       "      <td>Professional</td>\n",
       "      <td>F</td>\n",
       "      <td>S</td>\n",
       "      <td>1</td>\n",
       "      <td>4</td>\n",
       "      <td>5</td>\n",
       "      <td>5</td>\n",
       "      <td>92771</td>\n",
       "      <td>1</td>\n",
       "    </tr>\n",
       "  </tbody>\n",
       "</table>\n",
       "</div>"
      ],
      "text/plain": [
       "   CustomerID         City   BirthDate   Education    Occupation Gender  \\\n",
       "0       11000  Rockhampton  1966-04-08  Bachelors   Professional      M   \n",
       "1       11001      Seaford  1965-05-14  Bachelors   Professional      M   \n",
       "2       11002       Hobart  1965-08-12  Bachelors   Professional      M   \n",
       "3       11003   North Ryde  1968-02-15  Bachelors   Professional      F   \n",
       "4       11004   Wollongong  1968-08-08  Bachelors   Professional      F   \n",
       "\n",
       "  MaritalStatus  HomeOwnerFlag  NumberCarsOwned  NumberChildrenAtHome  \\\n",
       "0             M              1                0                     0   \n",
       "1             S              0                1                     3   \n",
       "2             M              1                1                     3   \n",
       "3             S              0                1                     0   \n",
       "4             S              1                4                     5   \n",
       "\n",
       "   TotalChildren  YearlyIncome  BikeBuyer  \n",
       "0              2        137947          0  \n",
       "1              3        101141          1  \n",
       "2              3         91945          0  \n",
       "3              0         86688          0  \n",
       "4              5         92771          1  "
      ]
     },
     "execution_count": 12,
     "metadata": {},
     "output_type": "execute_result"
    }
   ],
   "source": [
    "merged_final.head()"
   ]
  },
  {
   "cell_type": "code",
   "execution_count": 13,
   "metadata": {},
   "outputs": [
    {
     "data": {
      "text/html": [
       "<div>\n",
       "<style scoped>\n",
       "    .dataframe tbody tr th:only-of-type {\n",
       "        vertical-align: middle;\n",
       "    }\n",
       "\n",
       "    .dataframe tbody tr th {\n",
       "        vertical-align: top;\n",
       "    }\n",
       "\n",
       "    .dataframe thead th {\n",
       "        text-align: right;\n",
       "    }\n",
       "</style>\n",
       "<table border=\"1\" class=\"dataframe\">\n",
       "  <thead>\n",
       "    <tr style=\"text-align: right;\">\n",
       "      <th></th>\n",
       "      <th>CustomerID</th>\n",
       "      <th>HomeOwnerFlag</th>\n",
       "      <th>NumberCarsOwned</th>\n",
       "      <th>NumberChildrenAtHome</th>\n",
       "      <th>TotalChildren</th>\n",
       "      <th>YearlyIncome</th>\n",
       "      <th>BikeBuyer</th>\n",
       "    </tr>\n",
       "  </thead>\n",
       "  <tbody>\n",
       "    <tr>\n",
       "      <th>count</th>\n",
       "      <td>17209.000000</td>\n",
       "      <td>17209.000000</td>\n",
       "      <td>17209.000000</td>\n",
       "      <td>17209.000000</td>\n",
       "      <td>17209.000000</td>\n",
       "      <td>17209.000000</td>\n",
       "      <td>17209.000000</td>\n",
       "    </tr>\n",
       "    <tr>\n",
       "      <th>mean</th>\n",
       "      <td>20200.378523</td>\n",
       "      <td>0.672671</td>\n",
       "      <td>1.508106</td>\n",
       "      <td>0.997211</td>\n",
       "      <td>2.016096</td>\n",
       "      <td>78084.818700</td>\n",
       "      <td>0.331513</td>\n",
       "    </tr>\n",
       "    <tr>\n",
       "      <th>std</th>\n",
       "      <td>5354.643340</td>\n",
       "      <td>0.469252</td>\n",
       "      <td>1.137949</td>\n",
       "      <td>1.519436</td>\n",
       "      <td>1.685089</td>\n",
       "      <td>39616.621179</td>\n",
       "      <td>0.470771</td>\n",
       "    </tr>\n",
       "    <tr>\n",
       "      <th>min</th>\n",
       "      <td>11000.000000</td>\n",
       "      <td>0.000000</td>\n",
       "      <td>0.000000</td>\n",
       "      <td>0.000000</td>\n",
       "      <td>0.000000</td>\n",
       "      <td>9482.000000</td>\n",
       "      <td>0.000000</td>\n",
       "    </tr>\n",
       "    <tr>\n",
       "      <th>25%</th>\n",
       "      <td>15531.000000</td>\n",
       "      <td>0.000000</td>\n",
       "      <td>1.000000</td>\n",
       "      <td>0.000000</td>\n",
       "      <td>0.000000</td>\n",
       "      <td>47773.000000</td>\n",
       "      <td>0.000000</td>\n",
       "    </tr>\n",
       "    <tr>\n",
       "      <th>50%</th>\n",
       "      <td>20157.000000</td>\n",
       "      <td>1.000000</td>\n",
       "      <td>2.000000</td>\n",
       "      <td>0.000000</td>\n",
       "      <td>2.000000</td>\n",
       "      <td>76090.000000</td>\n",
       "      <td>0.000000</td>\n",
       "    </tr>\n",
       "    <tr>\n",
       "      <th>75%</th>\n",
       "      <td>24850.000000</td>\n",
       "      <td>1.000000</td>\n",
       "      <td>2.000000</td>\n",
       "      <td>2.000000</td>\n",
       "      <td>3.000000</td>\n",
       "      <td>105065.000000</td>\n",
       "      <td>1.000000</td>\n",
       "    </tr>\n",
       "    <tr>\n",
       "      <th>max</th>\n",
       "      <td>29482.000000</td>\n",
       "      <td>1.000000</td>\n",
       "      <td>4.000000</td>\n",
       "      <td>5.000000</td>\n",
       "      <td>5.000000</td>\n",
       "      <td>196511.000000</td>\n",
       "      <td>1.000000</td>\n",
       "    </tr>\n",
       "  </tbody>\n",
       "</table>\n",
       "</div>"
      ],
      "text/plain": [
       "         CustomerID  HomeOwnerFlag  NumberCarsOwned  NumberChildrenAtHome  \\\n",
       "count  17209.000000   17209.000000     17209.000000          17209.000000   \n",
       "mean   20200.378523       0.672671         1.508106              0.997211   \n",
       "std     5354.643340       0.469252         1.137949              1.519436   \n",
       "min    11000.000000       0.000000         0.000000              0.000000   \n",
       "25%    15531.000000       0.000000         1.000000              0.000000   \n",
       "50%    20157.000000       1.000000         2.000000              0.000000   \n",
       "75%    24850.000000       1.000000         2.000000              2.000000   \n",
       "max    29482.000000       1.000000         4.000000              5.000000   \n",
       "\n",
       "       TotalChildren   YearlyIncome     BikeBuyer  \n",
       "count   17209.000000   17209.000000  17209.000000  \n",
       "mean        2.016096   78084.818700      0.331513  \n",
       "std         1.685089   39616.621179      0.470771  \n",
       "min         0.000000    9482.000000      0.000000  \n",
       "25%         0.000000   47773.000000      0.000000  \n",
       "50%         2.000000   76090.000000      0.000000  \n",
       "75%         3.000000  105065.000000      1.000000  \n",
       "max         5.000000  196511.000000      1.000000  "
      ]
     },
     "execution_count": 13,
     "metadata": {},
     "output_type": "execute_result"
    }
   ],
   "source": [
    "merged_final.describe()"
   ]
  },
  {
   "cell_type": "code",
   "execution_count": 14,
   "metadata": {},
   "outputs": [
    {
     "data": {
      "image/png": "[encoded data removed]",
      "text/plain": [
       "<Figure size 432x288 with 1 Axes>"
      ]
     },
     "metadata": {},
     "output_type": "display_data"
    }
   ],
   "source": [
    "\n",
    "def plot_box(merged_final, col, col_y = 'YearlyIncome'):\n",
    "    sns.set_style(\"whitegrid\")\n",
    "    sns.boxplot(col, col_y, data=merged_final)\n",
    "    plt.title(\"Yearly Income Vs Occupation\")\n",
    "    plt.xlabel(col) # Set text for the x axis\n",
    "    plt.ylabel(col_y)# Set text for y axis\n",
    "    plt.show()\n",
    "    \n",
    "plot_box(merged_final, 'Occupation')    "
   ]
  },
  {
   "cell_type": "code",
   "execution_count": 15,
   "metadata": {},
   "outputs": [
    {
     "data": {
      "text/plain": [
       "Text(0.5,1,'Marital Status Vs Bikebuyer')"
      ]
     },
     "execution_count": 15,
     "metadata": {},
     "output_type": "execute_result"
    },
    {
     "data": {
      "image/png": "[encoded data removed]",
      "text/plain": [
       "<Figure size 432x288 with 1 Axes>"
      ]
     },
     "metadata": {},
     "output_type": "display_data"
    }
   ],
   "source": [
    "sns.countplot(x='BikeBuyer', hue='MaritalStatus', data=merged_final)\n",
    "plt.title(\"Marital Status Vs Bikebuyer\")\n"
   ]
  },
  {
   "cell_type": "code",
   "execution_count": 16,
   "metadata": {},
   "outputs": [
    {
     "data": {
      "text/plain": [
       "Text(0.5,1,'Occupations Vs BikeBuyer')"
      ]
     },
     "execution_count": 16,
     "metadata": {},
     "output_type": "execute_result"
    },
    {
     "data": {
      "image/png": "[encoded data removed]",
      "text/plain": [
       "<Figure size 432x288 with 1 Axes>"
      ]
     },
     "metadata": {},
     "output_type": "display_data"
    }
   ],
   "source": [
    "sns.countplot(x='BikeBuyer', hue='Occupation', data=merged_final)\n",
    "plt.title(\"Occupations Vs BikeBuyer\")\n"
   ]
  },
  {
   "cell_type": "code",
   "execution_count": 17,
   "metadata": {},
   "outputs": [
    {
     "data": {
      "text/plain": [
       "Text(0.5,1,'Gender vs Bike Owner')"
      ]
     },
     "execution_count": 17,
     "metadata": {},
     "output_type": "execute_result"
    },
    {
     "data": {
      "image/png": "[encoded data removed]",
      "text/plain": [
       "<Figure size 432x288 with 1 Axes>"
      ]
     },
     "metadata": {},
     "output_type": "display_data"
    }
   ],
   "source": [
    "sns.countplot(x='BikeBuyer', hue='Gender', data=merged_final)\n",
    "plt.title(\"Gender vs Bike Owner\")\n",
    "\n",
    "#plt.show()\n"
   ]
  },
  {
   "cell_type": "code",
   "execution_count": 18,
   "metadata": {},
   "outputs": [
    {
     "data": {
      "image/png": "[encoded data removed]",
      "text/plain": [
       "<Figure size 432x288 with 1 Axes>"
      ]
     },
     "metadata": {},
     "output_type": "display_data"
    },
    {
     "data": {
      "image/png": "[encoded data removed]",
      "text/plain": [
       "<Figure size 432x288 with 1 Axes>"
      ]
     },
     "metadata": {},
     "output_type": "display_data"
    },
    {
     "data": {
      "image/png": "[encoded data removed]",
      "text/plain": [
       "<Figure size 432x288 with 1 Axes>"
      ]
     },
     "metadata": {},
     "output_type": "display_data"
    },
    {
     "data": {
      "image/png": "[encoded data removed]",
      "text/plain": [
       "<Figure size 432x288 with 1 Axes>"
      ]
     },
     "metadata": {},
     "output_type": "display_data"
    }
   ],
   "source": [
    "def plot_box(merged_final, cols, col_x = 'BikeBuyer'):\n",
    "    for col in cols:\n",
    "        sns.set_style(\"whitegrid\")\n",
    "        sns.boxplot(col_x, col, data=merged_final)\n",
    "        plt.xlabel(col_x) # Set text for the x axis\n",
    "        plt.ylabel(col)# Set text for y axis\n",
    "        plt.show()\n",
    "\n",
    "num_cols = ['NumberCarsOwned',\n",
    "       'NumberChildrenAtHome', 'TotalChildren', 'YearlyIncome']\n",
    "plot_box(merged_final, num_cols)"
   ]
  },
  {
   "cell_type": "code",
   "execution_count": 19,
   "metadata": {},
   "outputs": [
    {
     "name": "stderr",
     "output_type": "stream",
     "text": [
      "/usr/local/lib/python3.6/site-packages/scipy/stats/stats.py:1706: FutureWarning: Using a non-tuple sequence for multidimensional indexing is deprecated; use `arr[tuple(seq)]` instead of `arr[seq]`. In the future this will be interpreted as an array index, `arr[np.array(seq)]`, which will result either in an error or a different result.\n",
      "  return np.add.reduce(sorted[indexer] * weights, axis=axis) / sumval\n"
     ]
    },
    {
     "data": {
      "image/png": "[encoded data removed]",
      "text/plain": [
       "<Figure size 432x288 with 1 Axes>"
      ]
     },
     "metadata": {},
     "output_type": "display_data"
    },
    {
     "data": {
      "image/png": "[encoded data removed]",
      "text/plain": [
       "<Figure size 432x288 with 1 Axes>"
      ]
     },
     "metadata": {},
     "output_type": "display_data"
    },
    {
     "data": {
      "image/png": "[encoded data removed]",
      "text/plain": [
       "<Figure size 432x288 with 1 Axes>"
      ]
     },
     "metadata": {},
     "output_type": "display_data"
    },
    {
     "data": {
      "image/png": "[encoded data removed]",
      "text/plain": [
       "<Figure size 432x288 with 1 Axes>"
      ]
     },
     "metadata": {},
     "output_type": "display_data"
    }
   ],
   "source": [
    "def plot_violin(merged_final, cols, col_x = 'BikeBuyer'):\n",
    "    for col in cols:\n",
    "        sns.set_style(\"whitegrid\")\n",
    "        sns.violinplot(col_x, col, data=merged_final)\n",
    "        plt.xlabel(col_x) # Set text for the x axis\n",
    "        plt.ylabel(col)# Set text for y axis\n",
    "        plt.show()\n",
    "\n",
    "plot_violin(merged_final, num_cols)"
   ]
  },
  {
   "cell_type": "code",
   "execution_count": 20,
   "metadata": {},
   "outputs": [
    {
     "name": "stdout",
     "output_type": "stream",
     "text": [
      "Education\n"
     ]
    },
    {
     "data": {
      "image/png": "[encoded data removed]",
      "text/plain": [
       "<Figure size 720x288 with 2 Axes>"
      ]
     },
     "metadata": {},
     "output_type": "display_data"
    },
    {
     "name": "stdout",
     "output_type": "stream",
     "text": [
      "Occupation\n"
     ]
    },
    {
     "data": {
      "image/png": "[encoded data removed]",
      "text/plain": [
       "<Figure size 720x288 with 2 Axes>"
      ]
     },
     "metadata": {},
     "output_type": "display_data"
    },
    {
     "name": "stdout",
     "output_type": "stream",
     "text": [
      "Gender\n"
     ]
    },
    {
     "data": {
      "image/png": "[encoded data removed]",
      "text/plain": [
       "<Figure size 720x288 with 2 Axes>"
      ]
     },
     "metadata": {},
     "output_type": "display_data"
    },
    {
     "name": "stdout",
     "output_type": "stream",
     "text": [
      "MaritalStatus\n"
     ]
    },
    {
     "data": {
      "image/png": "[encoded data removed]",
      "text/plain": [
       "<Figure size 720x288 with 2 Axes>"
      ]
     },
     "metadata": {},
     "output_type": "display_data"
    },
    {
     "name": "stdout",
     "output_type": "stream",
     "text": [
      "HomeOwnerFlag\n"
     ]
    },
    {
     "data": {
      "image/png": "[encoded data removed]",
      "text/plain": [
       "<Figure size 720x288 with 2 Axes>"
      ]
     },
     "metadata": {},
     "output_type": "display_data"
    }
   ],
   "source": [
    "import numpy as np\n",
    "cat_cols = ['Education', 'Occupation', 'Gender',\n",
    "       'MaritalStatus', 'HomeOwnerFlag']\n",
    "\n",
    "merged_final['dummy'] = np.ones(shape = merged_final.shape[0])\n",
    "for col in cat_cols:\n",
    "    print(col)\n",
    "    counts = merged_final[['dummy', 'BikeBuyer', col]].groupby(['BikeBuyer', col], as_index = False).count()\n",
    "    temp = counts[counts['BikeBuyer'] == 0][[col, 'dummy']]\n",
    "    _ = plt.figure(figsize = (10,4))\n",
    "    plt.subplot(1, 2, 1)\n",
    "    temp = counts[counts['BikeBuyer'] == 0][[col, 'dummy']]\n",
    "    plt.bar(temp[col], temp.dummy)\n",
    "    plt.xticks(rotation=90)\n",
    "    plt.title('Counts for ' + col + '\\n NoBike ')\n",
    "    plt.ylabel('count')\n",
    "    plt.subplot(1, 2, 2)\n",
    "    temp = counts[counts['BikeBuyer'] == 1][[col, 'dummy']]\n",
    "    plt.bar(temp[col], temp.dummy)\n",
    "    plt.xticks(rotation=90)\n",
    "    plt.title('Counts for ' + col + '\\n Owns Bike')\n",
    "    plt.ylabel('count')\n",
    "    plt.show()"
   ]
  },
  {
   "cell_type": "markdown",
   "metadata": {},
   "source": [
    "### CLASSIFICATION PROBLEM"
   ]
  },
  {
   "cell_type": "code",
   "execution_count": 23,
   "metadata": {},
   "outputs": [],
   "source": [
    "import pandas as pd\n",
    "import matplotlib.pyplot as plt\n",
    "import seaborn as sns\n",
    "import numpy as np\n",
    "import numpy.random as nr\n",
    "import math\n",
    "from sklearn import preprocessing\n",
    "import sklearn.model_selection as ms\n",
    "from sklearn import linear_model\n",
    "import sklearn.metrics as sklm\n",
    "\n",
    "%matplotlib inline"
   ]
  },
  {
   "cell_type": "code",
   "execution_count": 24,
   "metadata": {},
   "outputs": [],
   "source": [
    "labels = np.array(merged_final['BikeBuyer'])\n"
   ]
  },
  {
   "cell_type": "code",
   "execution_count": 25,
   "metadata": {},
   "outputs": [
    {
     "name": "stdout",
     "output_type": "stream",
     "text": [
      "(17209, 16)\n",
      "[[0. 0. 0. 1. 0. 1. 0. 0. 0. 0. 0. 1. 1. 0. 0. 1.]\n",
      " [0. 0. 0. 1. 0. 1. 0. 0. 0. 0. 0. 1. 0. 1. 1. 0.]]\n"
     ]
    },
    {
     "name": "stderr",
     "output_type": "stream",
     "text": [
      "/usr/local/lib/python3.6/site-packages/sklearn/preprocessing/_encoders.py:368: FutureWarning: The handling of integer data will change in version 0.22. Currently, the categories are determined based on the range [0, max(values)], while in the future they will be determined based on the unique values.\n",
      "If you want the future behaviour and silence this warning, you can specify \"categories='auto'\".\n",
      "In case you used a LabelEncoder before this OneHotEncoder to convert the categories to integers, then you can now use the OneHotEncoder directly.\n",
      "  warnings.warn(msg, FutureWarning)\n",
      "/usr/local/lib/python3.6/site-packages/sklearn/preprocessing/_encoders.py:368: FutureWarning: The handling of integer data will change in version 0.22. Currently, the categories are determined based on the range [0, max(values)], while in the future they will be determined based on the unique values.\n",
      "If you want the future behaviour and silence this warning, you can specify \"categories='auto'\".\n",
      "In case you used a LabelEncoder before this OneHotEncoder to convert the categories to integers, then you can now use the OneHotEncoder directly.\n",
      "  warnings.warn(msg, FutureWarning)\n",
      "/usr/local/lib/python3.6/site-packages/sklearn/preprocessing/_encoders.py:368: FutureWarning: The handling of integer data will change in version 0.22. Currently, the categories are determined based on the range [0, max(values)], while in the future they will be determined based on the unique values.\n",
      "If you want the future behaviour and silence this warning, you can specify \"categories='auto'\".\n",
      "In case you used a LabelEncoder before this OneHotEncoder to convert the categories to integers, then you can now use the OneHotEncoder directly.\n",
      "  warnings.warn(msg, FutureWarning)\n",
      "/usr/local/lib/python3.6/site-packages/sklearn/preprocessing/_encoders.py:368: FutureWarning: The handling of integer data will change in version 0.22. Currently, the categories are determined based on the range [0, max(values)], while in the future they will be determined based on the unique values.\n",
      "If you want the future behaviour and silence this warning, you can specify \"categories='auto'\".\n",
      "In case you used a LabelEncoder before this OneHotEncoder to convert the categories to integers, then you can now use the OneHotEncoder directly.\n",
      "  warnings.warn(msg, FutureWarning)\n",
      "/usr/local/lib/python3.6/site-packages/sklearn/preprocessing/_encoders.py:368: FutureWarning: The handling of integer data will change in version 0.22. Currently, the categories are determined based on the range [0, max(values)], while in the future they will be determined based on the unique values.\n",
      "If you want the future behaviour and silence this warning, you can specify \"categories='auto'\".\n",
      "In case you used a LabelEncoder before this OneHotEncoder to convert the categories to integers, then you can now use the OneHotEncoder directly.\n",
      "  warnings.warn(msg, FutureWarning)\n"
     ]
    }
   ],
   "source": [
    "def encode_string(cat_features):\n",
    "    ## First encode the strings to numeric categories\n",
    "    enc = preprocessing.LabelEncoder()\n",
    "    enc.fit(cat_features)\n",
    "    enc_cat_features = enc.transform(cat_features)\n",
    "    ## Now, apply one hot encoding\n",
    "    ohe = preprocessing.OneHotEncoder()\n",
    "    encoded = ohe.fit(enc_cat_features.reshape(-1,1))\n",
    "    return encoded.transform(enc_cat_features.reshape(-1,1)).toarray()\n",
    "\n",
    "categorical_columns = ['Education','Gender',\n",
    "       'MaritalStatus', 'HomeOwnerFlag']\n",
    "\n",
    "Features = encode_string(merged_final['Occupation'])\n",
    "for col in categorical_columns:\n",
    "    temp = encode_string(merged_final[col])\n",
    "    Features = np.concatenate([Features, temp], axis = 1)\n",
    "\n",
    "print(Features.shape)\n",
    "print(Features[:2, :]) \n",
    "\n",
    "\n"
   ]
  },
  {
   "cell_type": "code",
   "execution_count": 26,
   "metadata": {},
   "outputs": [
    {
     "data": {
      "text/plain": [
       "Professional      5209\n",
       "Skilled Manual    4227\n",
       "Management        2830\n",
       "Clerical          2751\n",
       "Manual            2192\n",
       "Name: Occupation, dtype: int64"
      ]
     },
     "execution_count": 26,
     "metadata": {},
     "output_type": "execute_result"
    }
   ],
   "source": [
    "merged_final['Occupation'].value_counts()"
   ]
  },
  {
   "cell_type": "markdown",
   "metadata": {},
   "source": [
    "Next the numeric features must be concatenated to the numpy array by executing the code in the cell below. "
   ]
  },
  {
   "cell_type": "code",
   "execution_count": 27,
   "metadata": {},
   "outputs": [
    {
     "name": "stdout",
     "output_type": "stream",
     "text": [
      "(17209, 20)\n",
      "[[0.00000e+00 0.00000e+00 0.00000e+00 1.00000e+00 0.00000e+00 1.00000e+00\n",
      "  0.00000e+00 0.00000e+00 0.00000e+00 0.00000e+00 0.00000e+00 1.00000e+00\n",
      "  1.00000e+00 0.00000e+00 0.00000e+00 1.00000e+00 0.00000e+00 0.00000e+00\n",
      "  2.00000e+00 1.37947e+05]\n",
      " [0.00000e+00 0.00000e+00 0.00000e+00 1.00000e+00 0.00000e+00 1.00000e+00\n",
      "  0.00000e+00 0.00000e+00 0.00000e+00 0.00000e+00 0.00000e+00 1.00000e+00\n",
      "  0.00000e+00 1.00000e+00 1.00000e+00 0.00000e+00 1.00000e+00 3.00000e+00\n",
      "  3.00000e+00 1.01141e+05]]\n"
     ]
    }
   ],
   "source": [
    "Features = np.concatenate([Features, np.array(merged_final[['NumberCarsOwned',\n",
    "       'NumberChildrenAtHome', 'TotalChildren', 'YearlyIncome']])], axis = 1)\n",
    "print(Features.shape)\n",
    "print(Features[:2, :])   \n"
   ]
  },
  {
   "cell_type": "code",
   "execution_count": 28,
   "metadata": {},
   "outputs": [],
   "source": [
    "nr.seed(9988)\n",
    "indx = range(Features.shape[0])\n",
    "indx = ms.train_test_split(indx, test_size = 300)\n",
    "X_train = Features[indx[0],:]\n",
    "y_train = np.ravel(labels[indx[0]])\n",
    "X_test = Features[indx[1],:]\n",
    "y_test = np.ravel(labels[indx[1]])"
   ]
  },
  {
   "cell_type": "markdown",
   "metadata": {},
   "source": [
    "With the dummy variables the original 4 categorical features are now 16 dummy variables. With the 4 numeric features there are a total of 20. "
   ]
  },
  {
   "cell_type": "markdown",
   "metadata": {},
   "source": [
    "we split the data into training and test data sets. This step is critical. If machine learning models are tested on the training data, the results will be both biased and overly optimistic.\n",
    "\n",
    "The code in the cell below performs the following processing:\n",
    "1. An index vector is Bernoulli sampled using the `train_test_split` function from the `model_selection` package of scikit-learn. \n",
    "2. The first column of the resulting index array contains the indices of the samples for the training cases. \n",
    "3. The second column of the resulting index array contains the indices of the samples for the test cases. "
   ]
  },
  {
   "cell_type": "code",
   "execution_count": 29,
   "metadata": {},
   "outputs": [],
   "source": [
    "## Randomly sample cases to create independent training and test data\n",
    "nr.seed(9988)\n",
    "indx = range(Features.shape[0])\n",
    "indx = ms.train_test_split(indx, test_size = 300)\n",
    "X_train = Features[indx[0],:]\n",
    "y_train = np.ravel(labels[indx[0]])\n",
    "X_test = Features[indx[1],:]\n",
    "y_test = np.ravel(labels[indx[1]])"
   ]
  },
  {
   "cell_type": "code",
   "execution_count": 30,
   "metadata": {},
   "outputs": [
    {
     "data": {
      "text/plain": [
       "array([[0.        , 1.        , 0.        , 0.        , 0.        ,\n",
       "        0.        , 1.        , 0.        , 0.        , 0.        ,\n",
       "        0.        , 1.        , 1.        , 0.        , 0.        ,\n",
       "        1.        , 2.        , 0.        , 2.        , 0.07794072],\n",
       "       [0.        , 1.        , 0.        , 0.        , 0.        ,\n",
       "        0.        , 1.        , 0.        , 0.        , 0.        ,\n",
       "        0.        , 1.        , 0.        , 1.        , 0.        ,\n",
       "        1.        , 2.        , 0.        , 4.        , 0.78384066]])"
      ]
     },
     "execution_count": 30,
     "metadata": {},
     "output_type": "execute_result"
    }
   ],
   "source": [
    "scaler = preprocessing.StandardScaler().fit(X_train[:,19:])\n",
    "X_train[:,19:] = scaler.transform(X_train[:,19:])\n",
    "X_test[:,19:] = scaler.transform(X_test[:,19:])\n",
    "X_train[:2,]"
   ]
  },
  {
   "cell_type": "markdown",
   "metadata": {},
   "source": [
    "The five numeric features are now scaled. "
   ]
  },
  {
   "cell_type": "markdown",
   "metadata": {},
   "source": [
    "## Construct the logistic regression model\n",
    "\n",
    "Now, it is time to compute the logistic regression model. The code in the cell below does the following:\n",
    "1. Define a logistic regression model object using the `LogisticRegression` method from the scikit-learn `linear_model` package.\n",
    "2. Fit the linear model using the numpy arrays of the features and the labels for the training data set. "
   ]
  },
  {
   "cell_type": "code",
   "execution_count": 31,
   "metadata": {},
   "outputs": [
    {
     "name": "stderr",
     "output_type": "stream",
     "text": [
      "/usr/local/lib/python3.6/site-packages/sklearn/linear_model/logistic.py:433: FutureWarning: Default solver will be changed to 'lbfgs' in 0.22. Specify a solver to silence this warning.\n",
      "  FutureWarning)\n"
     ]
    },
    {
     "data": {
      "text/plain": [
       "LogisticRegression(C=1.0, class_weight=None, dual=False, fit_intercept=True,\n",
       "          intercept_scaling=1, max_iter=100, multi_class='warn',\n",
       "          n_jobs=None, penalty='l2', random_state=None, solver='warn',\n",
       "          tol=0.0001, verbose=0, warm_start=False)"
      ]
     },
     "execution_count": 31,
     "metadata": {},
     "output_type": "execute_result"
    }
   ],
   "source": [
    "logistic_mod = linear_model.LogisticRegression() \n",
    "logistic_mod.fit(X_train, y_train)"
   ]
  },
  {
   "cell_type": "markdown",
   "metadata": {},
   "source": [
    "The model has been computed. Notice that the configuration of the model object has been printed. In this case, only default settings are shown, since no arguments were given to create the model object."
   ]
  },
  {
   "cell_type": "markdown",
   "metadata": {},
   "source": [
    "Now, print and examine the model coefficients by executing the code in the cell below. "
   ]
  },
  {
   "cell_type": "code",
   "execution_count": 32,
   "metadata": {},
   "outputs": [
    {
     "name": "stdout",
     "output_type": "stream",
     "text": [
      "[-0.51431818]\n",
      "[[ 0.03495339 -0.91682742  0.22233814 -0.00910528  0.15432299  0.24919921\n",
      "   0.06955933 -0.22906523 -0.1159627  -0.48804879 -0.57608231  0.06176414\n",
      "  -1.04510615  0.53078797 -0.31880937 -0.19550881 -0.07488919  0.83980019\n",
      "  -0.11247881  0.59713712]]\n"
     ]
    }
   ],
   "source": [
    "print(logistic_mod.intercept_)\n",
    "print(logistic_mod.coef_)"
   ]
  },
  {
   "cell_type": "markdown",
   "metadata": {},
   "source": [
    "First of all, notice that model coefficients look just as they would for an regression model."
   ]
  },
  {
   "cell_type": "markdown",
   "metadata": {},
   "source": [
    "Recall that the logistic regression model outputs probabilities for each class. The class with the highest probability is taken as the score (prediction). "
   ]
  },
  {
   "cell_type": "code",
   "execution_count": 33,
   "metadata": {},
   "outputs": [
    {
     "name": "stdout",
     "output_type": "stream",
     "text": [
      "[[0.40163811 0.59836189]\n",
      " [0.95699712 0.04300288]\n",
      " [0.83166799 0.16833201]\n",
      " [0.96638504 0.03361496]\n",
      " [0.0402741  0.9597259 ]\n",
      " [0.91410994 0.08589006]\n",
      " [0.94850006 0.05149994]\n",
      " [0.08906563 0.91093437]\n",
      " [0.18174075 0.81825925]\n",
      " [0.28270258 0.71729742]\n",
      " [0.88692587 0.11307413]\n",
      " [0.41583071 0.58416929]\n",
      " [0.94391994 0.05608006]\n",
      " [0.92774877 0.07225123]\n",
      " [0.67323037 0.32676963]]\n"
     ]
    }
   ],
   "source": [
    "probabilities = logistic_mod.predict_proba(X_test)\n",
    "print(probabilities[:15,:])"
   ]
  },
  {
   "cell_type": "markdown",
   "metadata": {},
   "source": [
    "The first column is the probability of a score of $0$ and the second column is the probability of a score of $1$. "
   ]
  },
  {
   "cell_type": "markdown",
   "metadata": {},
   "source": [
    "## Score and evaluate the classification model\n",
    "\n",
    "Now that the class probabilities have been computed these values must be transformed into actual class scores. Recall that the log likelihoods for two-class logistic regression are computed by applying the sigmoid or logistic transformation to the output of the linear model. The simple choice is to set the threshold between the two likelihoods at $0.5$. The code in the cell below applies this initial threshold to the probability of a score of $0$ for the test data. "
   ]
  },
  {
   "cell_type": "code",
   "execution_count": 34,
   "metadata": {},
   "outputs": [
    {
     "name": "stdout",
     "output_type": "stream",
     "text": [
      "[1 0 0 0 1 0 0 1 1 1 0 1 0 0 0]\n",
      "[1 0 0 0 1 0 0 1 1 1 1 0 0 0 0]\n"
     ]
    }
   ],
   "source": [
    "def score_model(probs, threshold):\n",
    "    return np.array([1 if x > threshold else 0 for x in probs[:,1]])\n",
    "scores = score_model(probabilities, 0.5)\n",
    "print(np.array(scores[:15]))\n",
    "print(y_test[:15])"
   ]
  },
  {
   "cell_type": "markdown",
   "metadata": {},
   "source": [
    "Some of the positive ($1$) predictions agree with the test labels in the second row, but several do not."
   ]
  },
  {
   "cell_type": "markdown",
   "metadata": {},
   "source": [
    "Given the results of the test data, how can you quantify the performance of the model? In general, you must **always use multiple metrics to evaluate the performance of any machine leaning model**, including classifiers. \n",
    "\n",
    "For classifiers there are a number of metrics commonly used. The **confusion matrix** lays out the correctly and incorrectly classified cases in a tabular format. There are various metrics derived from the values in the confusion matrix. Some of the common cases are briefly reviewed below. \n",
    "\n",
    "**Confusion matrix**\n",
    "\n",
    "As already stated, the confusion matrix lays out correctly and incorrectly classified cases. For the binary (two-class) case the confusion matrix is organized as follows:\n",
    "\n",
    "| | Scored Positive | Scored Negative|  \n",
    "|------|:------:|:------:| \n",
    "|**Actual Positive** | True Positive | False Negative |\n",
    "|**Actual Negative**| False Positive | True Negative |   \n",
    "\n",
    "Here the four elements in the matrix are defined as:    \n",
    "**True Positive** or **TP** are cases with positive labels which have been correctly classified as positive.     \n",
    "**True Negative** or **TN** are cases with negative labels which have been correctly classified as negative.  \n",
    "**False Positive** or **FP** are cases with negative labels which have been incorrectly classified as positive.   \n",
    "**False Negative** or **FN** are cases with positive labels which have been incorrectly classified as negative.\n",
    "\n",
    "\n",
    "When creating a confusion matrix it is important to understand and maintain a convention for which differentiating positive and negative label values. The usual convention is to call the $1$ case positive and the $0$ case negative. \n",
    "\n",
    "Notice that there is an ambiguity in which case is considered positive and which is considered negative when the confusion matrix is computed. Whenever you examine a confusion matrix it is a good idea to spend a moment and decide which case is which. This step will help you relate the results to the problem at hand. \n",
    "\n",
    "**Accuracy**\n",
    "\n",
    "Accuracy is a simple and often misused metric. In simple terms, accuracy is the fraction of cases correctly classified. For a two-class classifier accuracy is written as:\n",
    "\n",
    "$$Accuracy = \\frac{TP+TN}{TP+FP+TN+FN}$$\n",
    "\n",
    "Accuracy can be quite misleading. For example, say a classifier is used to detect fraudulent accounts and the rate of fraud is less than 1%. A naive model would be to say all accounts are not fraudulent. This model has accuracy exceeding  0.99. This sounds impressive, but is clearly useless. \n",
    "\n",
    "**Precision**\n",
    "\n",
    "Precision is the fraction of correctly classified label cases out of all cases classified with that label value. We can express precision by the following relationship:\n",
    "\n",
    "$$Precision = \\frac{M_{i,i}}{\\sum_j M_{i,j}}$$\n",
    "\n",
    "In other words, the precision statistic is the number of correctly classified cases for the label value divided by all the cases in the column. Thus, precision is sensitive to the number of cases correctly classified for a given score value. \n",
    "\n",
    "**Recall**  \n",
    "\n",
    "Recall is the fraction of cases of a label value correctly classified out of all cases that actually have that label value. We can express recall by the following relationship:\n",
    "\n",
    "$$Recall = \\frac{M_{i,i}}{\\sum_i M_{i,j}}$$\n",
    "\n",
    "In other words, the recall statistic is the number of correctly classified cases for the label value divided by all the cases in the row. Thus, precision is sensitive to the number of cases correctly classified for a given true label value. \n",
    "\n",
    "**F1**\n",
    "\n",
    "The F1 statistic is weighted average of precision and recall. We can express F1 by the following relationship:\n",
    "\n",
    "$$F1 = 2 * \\frac{precision * recall}{precision + recall}$$\n",
    "\n",
    "In other words, F1 is a weighted metric for overall model performance. \n",
    "\n",
    "**ROC** and **AUC**\n",
    "\n",
    "The receiver operating characteristic or ROC is a curve that displays the relationship between the true positive rate on the vertical axis and false positive rate on the horizontal axis. The ROC curve shows the tradeoff between true positive rate and false positive rate. An example is illustrated below.   \n",
    "\n",
    "In principle, you can pick the desired operating point for a classifier on this curve. Towards the left favors low false positive rate at the expense of true positive rate. Towards the right favors high true positive rate at the expense of higher false positive rate.  \n",
    "\n",
    "\n",
    "\n",
    "<img src=\"img/ROC_AUC.JPG\" alt=\"drawing\" width=\"480px\"/>\n",
    "\n",
    "<center>**ROC curve with values of AUC for balanced two-class problem**</center>\n",
    "\n",
    "The AUC is the area or integral under the ROC curve. The overall performance of the classifier is measured by the area under the curve or AUC. But, how can you interpret a specific AUC value? The higher the AUC the lower the increase in false positive rate required to achieve a required true positive rate.  For an ideal classifier the AUC is 1.0. A true positive rate is achieved with a 0 false positive rate. This behavior means that AUC is useful for comparing classifiers. The classifier with higher AUC is generally the better one. \n",
    "\n",
    "For balanced cases, random guessing gives an AUC or 0.5. A balanced case has equal numbers of positive and negative cases. So Bernoulli sampling (random guessing) with a probability $p$ for the positive case, will produce a ROC curve that runs diagonally from $0.0,0.0$ to $1.0,1.0$. The area under this triangular region is 0.5. It is often said that a classifier with an AUC of greater than 0.5 is better than random guessing. But, **for unbalanced cases this statement is not in true in general**. \n",
    "\n",
    "****\n",
    "**Note:** The term receive operating characteristic may seem a bit odd in the machine learning context. This term arose in the early days of radar engineering as a metric to measure the tradeoff between radar signal receiver correctly detecting a target, say an aircraft, and producing a positive response from noise, such as flying birds or clouds. A radar receiver would be adjusted to the desired operating point along its ROC curve. \n",
    "****"
   ]
  },
  {
   "cell_type": "code",
   "execution_count": 35,
   "metadata": {},
   "outputs": [
    {
     "name": "stdout",
     "output_type": "stream",
     "text": [
      "                 Confusion matrix\n",
      "                 Score positive    Score negative\n",
      "Actual positive       181                21\n",
      "Actual negative        40                58\n",
      "\n",
      "Accuracy  0.80\n",
      " \n",
      "           Positive      Negative\n",
      "Num case      202            98\n",
      "Precision    0.82          0.73\n",
      "Recall       0.90          0.59\n",
      "F1           0.86          0.66\n"
     ]
    }
   ],
   "source": [
    "def print_metrics(labels, scores):\n",
    "    metrics = sklm.precision_recall_fscore_support(labels, scores)\n",
    "    conf = sklm.confusion_matrix(labels, scores)\n",
    "    print('                 Confusion matrix')\n",
    "    print('                 Score positive    Score negative')\n",
    "    print('Actual positive    %6d' % conf[0,0] + '             %5d' % conf[0,1])\n",
    "    print('Actual negative    %6d' % conf[1,0] + '             %5d' % conf[1,1])\n",
    "    print('')\n",
    "    print('Accuracy  %0.2f' % sklm.accuracy_score(labels, scores))\n",
    "    print(' ')\n",
    "    print('           Positive      Negative')\n",
    "    print('Num case   %6d' % metrics[3][0] + '        %6d' % metrics[3][1])\n",
    "    print('Precision  %6.2f' % metrics[0][0] + '        %6.2f' % metrics[0][1])\n",
    "    print('Recall     %6.2f' % metrics[1][0] + '        %6.2f' % metrics[1][1])\n",
    "    print('F1         %6.2f' % metrics[2][0] + '        %6.2f' % metrics[2][1])\n",
    "\n",
    "\n",
    "    \n",
    "print_metrics(y_test, scores)    "
   ]
  },
  {
   "cell_type": "markdown",
   "metadata": {},
   "source": [
    "## PREDICTION "
   ]
  },
  {
   "cell_type": "code",
   "execution_count": 36,
   "metadata": {},
   "outputs": [
    {
     "name": "stdout",
     "output_type": "stream",
     "text": [
      "(500, 16)\n",
      "[[0. 1. 0. 0. 0. 1. 0. 0. 0. 0. 1. 0. 0. 1. 1. 0.]\n",
      " [0. 0. 0. 0. 1. 1. 0. 0. 0. 0. 0. 1. 1. 0. 0. 1.]]\n"
     ]
    },
    {
     "name": "stderr",
     "output_type": "stream",
     "text": [
      "/usr/local/lib/python3.6/site-packages/sklearn/preprocessing/_encoders.py:368: FutureWarning: The handling of integer data will change in version 0.22. Currently, the categories are determined based on the range [0, max(values)], while in the future they will be determined based on the unique values.\n",
      "If you want the future behaviour and silence this warning, you can specify \"categories='auto'\".\n",
      "In case you used a LabelEncoder before this OneHotEncoder to convert the categories to integers, then you can now use the OneHotEncoder directly.\n",
      "  warnings.warn(msg, FutureWarning)\n",
      "/usr/local/lib/python3.6/site-packages/sklearn/preprocessing/_encoders.py:368: FutureWarning: The handling of integer data will change in version 0.22. Currently, the categories are determined based on the range [0, max(values)], while in the future they will be determined based on the unique values.\n",
      "If you want the future behaviour and silence this warning, you can specify \"categories='auto'\".\n",
      "In case you used a LabelEncoder before this OneHotEncoder to convert the categories to integers, then you can now use the OneHotEncoder directly.\n",
      "  warnings.warn(msg, FutureWarning)\n",
      "/usr/local/lib/python3.6/site-packages/sklearn/preprocessing/_encoders.py:368: FutureWarning: The handling of integer data will change in version 0.22. Currently, the categories are determined based on the range [0, max(values)], while in the future they will be determined based on the unique values.\n",
      "If you want the future behaviour and silence this warning, you can specify \"categories='auto'\".\n",
      "In case you used a LabelEncoder before this OneHotEncoder to convert the categories to integers, then you can now use the OneHotEncoder directly.\n",
      "  warnings.warn(msg, FutureWarning)\n",
      "/usr/local/lib/python3.6/site-packages/sklearn/preprocessing/_encoders.py:368: FutureWarning: The handling of integer data will change in version 0.22. Currently, the categories are determined based on the range [0, max(values)], while in the future they will be determined based on the unique values.\n",
      "If you want the future behaviour and silence this warning, you can specify \"categories='auto'\".\n",
      "In case you used a LabelEncoder before this OneHotEncoder to convert the categories to integers, then you can now use the OneHotEncoder directly.\n",
      "  warnings.warn(msg, FutureWarning)\n",
      "/usr/local/lib/python3.6/site-packages/sklearn/preprocessing/_encoders.py:368: FutureWarning: The handling of integer data will change in version 0.22. Currently, the categories are determined based on the range [0, max(values)], while in the future they will be determined based on the unique values.\n",
      "If you want the future behaviour and silence this warning, you can specify \"categories='auto'\".\n",
      "In case you used a LabelEncoder before this OneHotEncoder to convert the categories to integers, then you can now use the OneHotEncoder directly.\n",
      "  warnings.warn(msg, FutureWarning)\n"
     ]
    }
   ],
   "source": [
    "def encode_string(cat_features1):\n",
    "    ## First encode the strings to numeric categories\n",
    "    enc = preprocessing.LabelEncoder()\n",
    "    enc.fit(cat_features1)\n",
    "    enc_cat_features = enc.transform(cat_features1)\n",
    "    ## Now, apply one hot encoding\n",
    "    ohe = preprocessing.OneHotEncoder()\n",
    "    encoded = ohe.fit(enc_cat_features.reshape(-1,1))\n",
    "    return encoded.transform(enc_cat_features.reshape(-1,1)).toarray()\n",
    "\n",
    "categorical_columns = ['Education','Gender',\n",
    "       'MaritalStatus', 'HomeOwnerFlag']\n",
    "\n",
    "Features1 = encode_string(test['Occupation'])\n",
    "for col in categorical_columns:\n",
    "    temp = encode_string(test[col])\n",
    "    Features1 = np.concatenate([Features1, temp], axis = 1)\n",
    "\n",
    "print(Features1.shape)\n",
    "print(Features1[:2, :]) \n"
   ]
  },
  {
   "cell_type": "code",
   "execution_count": 37,
   "metadata": {},
   "outputs": [
    {
     "data": {
      "text/plain": [
       "Professional      146\n",
       "Skilled Manual    134\n",
       "Management         91\n",
       "Clerical           73\n",
       "Manual             56\n",
       "Name: Occupation, dtype: int64"
      ]
     },
     "execution_count": 37,
     "metadata": {},
     "output_type": "execute_result"
    }
   ],
   "source": [
    "test['Occupation'].value_counts()"
   ]
  },
  {
   "cell_type": "code",
   "execution_count": 38,
   "metadata": {},
   "outputs": [
    {
     "name": "stdout",
     "output_type": "stream",
     "text": [
      "(500, 20)\n",
      "[[0.00000e+00 1.00000e+00 0.00000e+00 0.00000e+00 0.00000e+00 1.00000e+00\n",
      "  0.00000e+00 0.00000e+00 0.00000e+00 0.00000e+00 1.00000e+00 0.00000e+00\n",
      "  0.00000e+00 1.00000e+00 1.00000e+00 0.00000e+00 2.00000e+00 0.00000e+00\n",
      "  5.00000e+00 8.69310e+04]\n",
      " [0.00000e+00 0.00000e+00 0.00000e+00 0.00000e+00 1.00000e+00 1.00000e+00\n",
      "  0.00000e+00 0.00000e+00 0.00000e+00 0.00000e+00 0.00000e+00 1.00000e+00\n",
      "  1.00000e+00 0.00000e+00 0.00000e+00 1.00000e+00 2.00000e+00 2.00000e+00\n",
      "  4.00000e+00 1.00125e+05]]\n"
     ]
    }
   ],
   "source": [
    "Features1 = np.concatenate([Features1, np.array(test[['NumberCarsOwned',\n",
    "       'NumberChildrenAtHome', 'TotalChildren', 'YearlyIncome']])], axis = 1)\n",
    "print(Features1.shape)\n",
    "print(Features1[:2, :])   \n"
   ]
  },
  {
   "cell_type": "code",
   "execution_count": 39,
   "metadata": {},
   "outputs": [
    {
     "data": {
      "text/plain": [
       "array([[0.        , 1.        , 0.        , 0.        , 0.        ,\n",
       "        1.        , 0.        , 0.        , 0.        , 0.        ,\n",
       "        1.        , 0.        , 0.        , 1.        , 1.        ,\n",
       "        0.        , 2.        , 0.        , 5.        , 0.22333248],\n",
       "       [0.        , 0.        , 0.        , 0.        , 1.        ,\n",
       "        1.        , 0.        , 0.        , 0.        , 0.        ,\n",
       "        0.        , 1.        , 1.        , 0.        , 0.        ,\n",
       "        1.        , 2.        , 2.        , 4.        , 0.55648614]])"
      ]
     },
     "execution_count": 39,
     "metadata": {},
     "output_type": "execute_result"
    }
   ],
   "source": [
    "#scaler = preprocessing.StandardScaler().fit(Features1[:,19:])\n",
    "Features1[:,19:] = scaler.transform(Features1[:,19:])\n",
    "Features1[:2,]"
   ]
  },
  {
   "cell_type": "code",
   "execution_count": 40,
   "metadata": {},
   "outputs": [
    {
     "name": "stdout",
     "output_type": "stream",
     "text": [
      "[[0.89329629 0.10670371]\n",
      " [0.46939867 0.53060133]\n",
      " [0.96731088 0.03268912]\n",
      " [0.76481401 0.23518599]\n",
      " [0.85882012 0.14117988]\n",
      " [0.95715197 0.04284803]\n",
      " [0.20418183 0.79581817]\n",
      " [0.17462727 0.82537273]\n",
      " [0.18574271 0.81425729]\n",
      " [0.85256672 0.14743328]\n",
      " [0.54427925 0.45572075]\n",
      " [0.95023056 0.04976944]\n",
      " [0.92649532 0.07350468]\n",
      " [0.96853282 0.03146718]\n",
      " [0.80414872 0.19585128]\n",
      " [0.89515644 0.10484356]\n",
      " [0.7994489  0.2005511 ]\n",
      " [0.67846632 0.32153368]\n",
      " [0.06913041 0.93086959]\n",
      " [0.51618396 0.48381604]\n",
      " [0.94341447 0.05658553]\n",
      " [0.83949487 0.16050513]\n",
      " [0.09955364 0.90044636]\n",
      " [0.72195869 0.27804131]\n",
      " [0.93779162 0.06220838]\n",
      " [0.70917644 0.29082356]\n",
      " [0.71692893 0.28307107]\n",
      " [0.08075957 0.91924043]\n",
      " [0.43169327 0.56830673]\n",
      " [0.91891504 0.08108496]\n",
      " [0.24170663 0.75829337]\n",
      " [0.56682656 0.43317344]\n",
      " [0.97790113 0.02209887]\n",
      " [0.78373335 0.21626665]\n",
      " [0.2648092  0.7351908 ]\n",
      " [0.14850641 0.85149359]\n",
      " [0.13272367 0.86727633]\n",
      " [0.62944533 0.37055467]\n",
      " [0.86515738 0.13484262]\n",
      " [0.70984153 0.29015847]\n",
      " [0.64411309 0.35588691]\n",
      " [0.53108162 0.46891838]\n",
      " [0.83752065 0.16247935]\n",
      " [0.9107915  0.0892085 ]\n",
      " [0.83534178 0.16465822]\n",
      " [0.8915006  0.1084994 ]\n",
      " [0.86554741 0.13445259]\n",
      " [0.09808722 0.90191278]\n",
      " [0.45485439 0.54514561]\n",
      " [0.8697731  0.1302269 ]\n",
      " [0.9137345  0.0862655 ]\n",
      " [0.35865735 0.64134265]\n",
      " [0.76044128 0.23955872]\n",
      " [0.95552426 0.04447574]\n",
      " [0.96372756 0.03627244]\n",
      " [0.8444831  0.1555169 ]\n",
      " [0.89023998 0.10976002]\n",
      " [0.55483645 0.44516355]\n",
      " [0.96788466 0.03211534]\n",
      " [0.6683309  0.3316691 ]\n",
      " [0.93149827 0.06850173]\n",
      " [0.97433049 0.02566951]\n",
      " [0.75330839 0.24669161]\n",
      " [0.21936797 0.78063203]\n",
      " [0.6927869  0.3072131 ]\n",
      " [0.12973048 0.87026952]\n",
      " [0.36508537 0.63491463]\n",
      " [0.22237106 0.77762894]\n",
      " [0.80600711 0.19399289]\n",
      " [0.24021585 0.75978415]\n",
      " [0.48784572 0.51215428]\n",
      " [0.95629057 0.04370943]\n",
      " [0.75126102 0.24873898]\n",
      " [0.96492918 0.03507082]\n",
      " [0.70963806 0.29036194]\n",
      " [0.22730353 0.77269647]\n",
      " [0.08772424 0.91227576]\n",
      " [0.29196102 0.70803898]\n",
      " [0.83896184 0.16103816]\n",
      " [0.94767208 0.05232792]\n",
      " [0.42407744 0.57592256]\n",
      " [0.58802647 0.41197353]\n",
      " [0.94004126 0.05995874]\n",
      " [0.41550293 0.58449707]\n",
      " [0.74426678 0.25573322]\n",
      " [0.96074093 0.03925907]\n",
      " [0.83464923 0.16535077]\n",
      " [0.08849294 0.91150706]\n",
      " [0.19607458 0.80392542]\n",
      " [0.9331366  0.0668634 ]\n",
      " [0.95550354 0.04449646]\n",
      " [0.41971841 0.58028159]\n",
      " [0.89747758 0.10252242]\n",
      " [0.64710452 0.35289548]\n",
      " [0.97673314 0.02326686]\n",
      " [0.11468328 0.88531672]\n",
      " [0.82967593 0.17032407]\n",
      " [0.9077378  0.0922622 ]\n",
      " [0.96122987 0.03877013]\n",
      " [0.89132133 0.10867867]\n",
      " [0.5030257  0.4969743 ]\n",
      " [0.72385239 0.27614761]\n",
      " [0.92931964 0.07068036]\n",
      " [0.08696573 0.91303427]\n",
      " [0.82354279 0.17645721]\n",
      " [0.58972686 0.41027314]\n",
      " [0.88744744 0.11255256]\n",
      " [0.84526711 0.15473289]\n",
      " [0.73376051 0.26623949]\n",
      " [0.90563537 0.09436463]\n",
      " [0.44675225 0.55324775]\n",
      " [0.60340281 0.39659719]\n",
      " [0.50194799 0.49805201]\n",
      " [0.83782062 0.16217938]\n",
      " [0.89149477 0.10850523]\n",
      " [0.41521858 0.58478142]\n",
      " [0.86263052 0.13736948]\n",
      " [0.79599368 0.20400632]\n",
      " [0.76375916 0.23624084]\n",
      " [0.3353208  0.6646792 ]\n",
      " [0.25933862 0.74066138]\n",
      " [0.59723065 0.40276935]\n",
      " [0.49551906 0.50448094]\n",
      " [0.98697086 0.01302914]\n",
      " [0.49930344 0.50069656]\n",
      " [0.92181891 0.07818109]\n",
      " [0.83873952 0.16126048]\n",
      " [0.65795981 0.34204019]\n",
      " [0.33258394 0.66741606]\n",
      " [0.2962829  0.7037171 ]\n",
      " [0.84067289 0.15932711]\n",
      " [0.75930609 0.24069391]\n",
      " [0.32990569 0.67009431]\n",
      " [0.77777932 0.22222068]\n",
      " [0.95306602 0.04693398]\n",
      " [0.32627442 0.67372558]\n",
      " [0.05368857 0.94631143]\n",
      " [0.81217759 0.18782241]\n",
      " [0.48830325 0.51169675]\n",
      " [0.81811774 0.18188226]\n",
      " [0.66831063 0.33168937]\n",
      " [0.96564387 0.03435613]\n",
      " [0.44283926 0.55716074]\n",
      " [0.84741195 0.15258805]\n",
      " [0.24882055 0.75117945]\n",
      " [0.89875193 0.10124807]\n",
      " [0.92309555 0.07690445]\n",
      " [0.94797939 0.05202061]\n",
      " [0.96167147 0.03832853]\n",
      " [0.74899277 0.25100723]\n",
      " [0.32906053 0.67093947]\n",
      " [0.95509193 0.04490807]\n",
      " [0.69520936 0.30479064]\n",
      " [0.82948855 0.17051145]\n",
      " [0.68172634 0.31827366]\n",
      " [0.88928445 0.11071555]\n",
      " [0.55697517 0.44302483]\n",
      " [0.94066475 0.05933525]\n",
      " [0.42466293 0.57533707]\n",
      " [0.38415739 0.61584261]\n",
      " [0.98034934 0.01965066]\n",
      " [0.60498016 0.39501984]\n",
      " [0.38869293 0.61130707]\n",
      " [0.73547942 0.26452058]\n",
      " [0.19194659 0.80805341]\n",
      " [0.91673613 0.08326387]\n",
      " [0.46082705 0.53917295]\n",
      " [0.20821961 0.79178039]\n",
      " [0.703058   0.296942  ]\n",
      " [0.88586785 0.11413215]\n",
      " [0.88790901 0.11209099]\n",
      " [0.23284331 0.76715669]\n",
      " [0.88867906 0.11132094]\n",
      " [0.9277396  0.0722604 ]\n",
      " [0.79754352 0.20245648]\n",
      " [0.92461577 0.07538423]\n",
      " [0.32009659 0.67990341]\n",
      " [0.92726276 0.07273724]\n",
      " [0.92224268 0.07775732]\n",
      " [0.15290185 0.84709815]\n",
      " [0.95877505 0.04122495]\n",
      " [0.87078445 0.12921555]\n",
      " [0.21263415 0.78736585]\n",
      " [0.93528651 0.06471349]\n",
      " [0.901127   0.098873  ]\n",
      " [0.71984154 0.28015846]\n",
      " [0.38132013 0.61867987]\n",
      " [0.91501232 0.08498768]\n",
      " [0.92498247 0.07501753]\n",
      " [0.530949   0.469051  ]\n",
      " [0.89909522 0.10090478]\n",
      " [0.93682366 0.06317634]\n",
      " [0.84224887 0.15775113]\n",
      " [0.91703912 0.08296088]\n",
      " [0.54906858 0.45093142]\n",
      " [0.8616795  0.1383205 ]\n",
      " [0.64022069 0.35977931]\n",
      " [0.85194067 0.14805933]\n",
      " [0.96959427 0.03040573]\n",
      " [0.12765877 0.87234123]\n",
      " [0.88502532 0.11497468]\n",
      " [0.88723449 0.11276551]\n",
      " [0.83732787 0.16267213]\n",
      " [0.49479571 0.50520429]\n",
      " [0.14146741 0.85853259]\n",
      " [0.89154075 0.10845925]\n",
      " [0.29867331 0.70132669]\n",
      " [0.19336094 0.80663906]\n",
      " [0.77548995 0.22451005]\n",
      " [0.34688891 0.65311109]\n",
      " [0.87768686 0.12231314]\n",
      " [0.64677954 0.35322046]\n",
      " [0.03767782 0.96232218]\n",
      " [0.77141181 0.22858819]\n",
      " [0.71407155 0.28592845]\n",
      " [0.44794658 0.55205342]\n",
      " [0.92583873 0.07416127]\n",
      " [0.93665859 0.06334141]\n",
      " [0.35815299 0.64184701]\n",
      " [0.3660642  0.6339358 ]\n",
      " [0.69467488 0.30532512]\n",
      " [0.53275964 0.46724036]\n",
      " [0.39214397 0.60785603]\n",
      " [0.27440623 0.72559377]\n",
      " [0.74851654 0.25148346]\n",
      " [0.96622413 0.03377587]\n",
      " [0.8843328  0.1156672 ]\n",
      " [0.06448468 0.93551532]\n",
      " [0.38114211 0.61885789]\n",
      " [0.7015758  0.2984242 ]\n",
      " [0.30849385 0.69150615]\n",
      " [0.95900675 0.04099325]\n",
      " [0.9128438  0.0871562 ]\n",
      " [0.88945117 0.11054883]\n",
      " [0.52148416 0.47851584]\n",
      " [0.94222775 0.05777225]\n",
      " [0.25221748 0.74778252]\n",
      " [0.56052561 0.43947439]\n",
      " [0.72071281 0.27928719]\n",
      " [0.92921829 0.07078171]\n",
      " [0.33850396 0.66149604]\n",
      " [0.89370115 0.10629885]\n",
      " [0.77291518 0.22708482]\n",
      " [0.74483314 0.25516686]\n",
      " [0.31682331 0.68317669]\n",
      " [0.92448659 0.07551341]\n",
      " [0.84414226 0.15585774]\n",
      " [0.74766992 0.25233008]\n",
      " [0.29006259 0.70993741]\n",
      " [0.36312365 0.63687635]\n",
      " [0.2034102  0.7965898 ]\n",
      " [0.83956194 0.16043806]\n",
      " [0.68067165 0.31932835]\n",
      " [0.98161169 0.01838831]\n",
      " [0.250348   0.749652  ]\n",
      " [0.46589467 0.53410533]\n",
      " [0.93894618 0.06105382]\n",
      " [0.59948999 0.40051001]\n",
      " [0.07926304 0.92073696]\n",
      " [0.85771164 0.14228836]\n",
      " [0.96752525 0.03247475]\n",
      " [0.68551506 0.31448494]\n",
      " [0.62039822 0.37960178]\n",
      " [0.67972674 0.32027326]\n",
      " [0.21189632 0.78810368]\n",
      " [0.29445678 0.70554322]\n",
      " [0.83861225 0.16138775]\n",
      " [0.44792867 0.55207133]\n",
      " [0.16141505 0.83858495]\n",
      " [0.90608163 0.09391837]\n",
      " [0.03165584 0.96834416]\n",
      " [0.72930141 0.27069859]\n",
      " [0.89372671 0.10627329]\n",
      " [0.75062622 0.24937378]\n",
      " [0.5434631  0.4565369 ]\n",
      " [0.94301359 0.05698641]\n",
      " [0.17872441 0.82127559]\n",
      " [0.68032145 0.31967855]\n",
      " [0.07088272 0.92911728]\n",
      " [0.89601514 0.10398486]\n",
      " [0.76306509 0.23693491]\n",
      " [0.92298494 0.07701506]\n",
      " [0.90256879 0.09743121]\n",
      " [0.83672431 0.16327569]\n",
      " [0.57770183 0.42229817]\n",
      " [0.90359777 0.09640223]\n",
      " [0.52549604 0.47450396]\n",
      " [0.93502026 0.06497974]\n",
      " [0.8388347  0.1611653 ]\n",
      " [0.63265861 0.36734139]\n",
      " [0.88375281 0.11624719]\n",
      " [0.91475002 0.08524998]\n",
      " [0.72135686 0.27864314]\n",
      " [0.07654148 0.92345852]\n",
      " [0.8482147  0.1517853 ]\n",
      " [0.16275595 0.83724405]\n",
      " [0.10619963 0.89380037]\n",
      " [0.97355648 0.02644352]\n",
      " [0.75534046 0.24465954]\n",
      " [0.96763929 0.03236071]\n",
      " [0.64834262 0.35165738]\n",
      " [0.84766804 0.15233196]\n",
      " [0.08480307 0.91519693]\n",
      " [0.56077209 0.43922791]\n",
      " [0.94963023 0.05036977]\n",
      " [0.79248228 0.20751772]\n",
      " [0.07178753 0.92821247]\n",
      " [0.12212691 0.87787309]\n",
      " [0.21026233 0.78973767]\n",
      " [0.34508335 0.65491665]\n",
      " [0.79468069 0.20531931]\n",
      " [0.19990005 0.80009995]\n",
      " [0.0502614  0.9497386 ]\n",
      " [0.92914532 0.07085468]\n",
      " [0.91721165 0.08278835]\n",
      " [0.95791001 0.04208999]\n",
      " [0.83246231 0.16753769]\n",
      " [0.88379443 0.11620557]\n",
      " [0.10056878 0.89943122]\n",
      " [0.93095324 0.06904676]\n",
      " [0.92531737 0.07468263]\n",
      " [0.94385145 0.05614855]\n",
      " [0.92528904 0.07471096]\n",
      " [0.92477718 0.07522282]\n",
      " [0.15418799 0.84581201]\n",
      " [0.79713105 0.20286895]\n",
      " [0.74580618 0.25419382]\n",
      " [0.39570049 0.60429951]\n",
      " [0.83918342 0.16081658]\n",
      " [0.65240199 0.34759801]\n",
      " [0.40912494 0.59087506]\n",
      " [0.77636576 0.22363424]\n",
      " [0.08889592 0.91110408]\n",
      " [0.85583554 0.14416446]\n",
      " [0.30832502 0.69167498]\n",
      " [0.31270217 0.68729783]\n",
      " [0.42560803 0.57439197]\n",
      " [0.83609271 0.16390729]\n",
      " [0.29501484 0.70498516]\n",
      " [0.7147179  0.2852821 ]\n",
      " [0.74444514 0.25555486]\n",
      " [0.84957048 0.15042952]\n",
      " [0.52949838 0.47050162]\n",
      " [0.43681361 0.56318639]\n",
      " [0.905003   0.094997  ]\n",
      " [0.94806233 0.05193767]\n",
      " [0.41253182 0.58746818]\n",
      " [0.83930931 0.16069069]\n",
      " [0.15667967 0.84332033]\n",
      " [0.70898356 0.29101644]\n",
      " [0.81329629 0.18670371]\n",
      " [0.43114776 0.56885224]\n",
      " [0.85267832 0.14732168]\n",
      " [0.58714839 0.41285161]\n",
      " [0.97103067 0.02896933]\n",
      " [0.41644637 0.58355363]\n",
      " [0.11001855 0.88998145]\n",
      " [0.65156018 0.34843982]\n",
      " [0.79660948 0.20339052]\n",
      " [0.90998464 0.09001536]\n",
      " [0.0735298  0.9264702 ]\n",
      " [0.58445982 0.41554018]\n",
      " [0.91347783 0.08652217]\n",
      " [0.66933147 0.33066853]\n",
      " [0.74960782 0.25039218]\n",
      " [0.8639732  0.1360268 ]\n",
      " [0.68292197 0.31707803]\n",
      " [0.94679019 0.05320981]\n",
      " [0.92632817 0.07367183]\n",
      " [0.76184097 0.23815903]\n",
      " [0.02202239 0.97797761]\n",
      " [0.93972976 0.06027024]\n",
      " [0.67701621 0.32298379]\n",
      " [0.56253929 0.43746071]\n",
      " [0.51275989 0.48724011]\n",
      " [0.68595281 0.31404719]\n",
      " [0.53070604 0.46929396]\n",
      " [0.9407296  0.0592704 ]\n",
      " [0.82905885 0.17094115]\n",
      " [0.04322962 0.95677038]\n",
      " [0.14201336 0.85798664]\n",
      " [0.21507423 0.78492577]\n",
      " [0.88971382 0.11028618]\n",
      " [0.88929382 0.11070618]\n",
      " [0.66603432 0.33396568]\n",
      " [0.49058171 0.50941829]\n",
      " [0.42629966 0.57370034]\n",
      " [0.68422949 0.31577051]\n",
      " [0.69054194 0.30945806]\n",
      " [0.47676845 0.52323155]\n",
      " [0.76630339 0.23369661]\n",
      " [0.93519736 0.06480264]\n",
      " [0.33278119 0.66721881]\n",
      " [0.91446976 0.08553024]\n",
      " [0.73580303 0.26419697]\n",
      " [0.83627329 0.16372671]\n",
      " [0.42734211 0.57265789]\n",
      " [0.96473662 0.03526338]\n",
      " [0.96110192 0.03889808]\n",
      " [0.92717507 0.07282493]\n",
      " [0.95843702 0.04156298]\n",
      " [0.09580232 0.90419768]\n",
      " [0.50171775 0.49828225]\n",
      " [0.37537184 0.62462816]\n",
      " [0.39515008 0.60484992]\n",
      " [0.75996159 0.24003841]\n",
      " [0.4736604  0.5263396 ]\n",
      " [0.95371514 0.04628486]\n",
      " [0.86192405 0.13807595]\n",
      " [0.94871522 0.05128478]\n",
      " [0.52729115 0.47270885]\n",
      " [0.84815433 0.15184567]\n",
      " [0.70505059 0.29494941]\n",
      " [0.81886148 0.18113852]\n",
      " [0.32857907 0.67142093]\n",
      " [0.90382379 0.09617621]\n",
      " [0.39630825 0.60369175]\n",
      " [0.12340647 0.87659353]\n",
      " [0.85162448 0.14837552]\n",
      " [0.63440053 0.36559947]\n",
      " [0.939218   0.060782  ]\n",
      " [0.92756147 0.07243853]\n",
      " [0.89714013 0.10285987]\n",
      " [0.89019765 0.10980235]\n",
      " [0.94574428 0.05425572]\n",
      " [0.95830914 0.04169086]\n",
      " [0.94186307 0.05813693]\n",
      " [0.8096196  0.1903804 ]\n",
      " [0.75679706 0.24320294]\n",
      " [0.61278011 0.38721989]\n",
      " [0.80116775 0.19883225]\n",
      " [0.68946389 0.31053611]\n",
      " [0.74560459 0.25439541]\n",
      " [0.35932392 0.64067608]\n",
      " [0.10684278 0.89315722]\n",
      " [0.91187514 0.08812486]\n",
      " [0.34823488 0.65176512]\n",
      " [0.43386929 0.56613071]\n",
      " [0.91649226 0.08350774]\n",
      " [0.51930081 0.48069919]\n",
      " [0.9179728  0.0820272 ]\n",
      " [0.05417535 0.94582465]\n",
      " [0.71455532 0.28544468]\n",
      " [0.44395277 0.55604723]\n",
      " [0.9447986  0.0552014 ]\n",
      " [0.50974501 0.49025499]\n",
      " [0.92670396 0.07329604]\n",
      " [0.50185247 0.49814753]\n",
      " [0.63314678 0.36685322]\n",
      " [0.62008633 0.37991367]\n",
      " [0.84520822 0.15479178]\n",
      " [0.04248441 0.95751559]\n",
      " [0.81207071 0.18792929]\n",
      " [0.88940113 0.11059887]\n",
      " [0.95312121 0.04687879]\n",
      " [0.94104496 0.05895504]\n",
      " [0.38696693 0.61303307]\n",
      " [0.59658855 0.40341145]\n",
      " [0.93241163 0.06758837]\n",
      " [0.72786706 0.27213294]\n",
      " [0.90143695 0.09856305]\n",
      " [0.84009615 0.15990385]\n",
      " [0.1657054  0.8342946 ]\n",
      " [0.97572238 0.02427762]\n",
      " [0.04199625 0.95800375]\n",
      " [0.14759518 0.85240482]\n",
      " [0.93898668 0.06101332]\n",
      " [0.37933356 0.62066644]\n",
      " [0.58958598 0.41041402]\n",
      " [0.87512068 0.12487932]\n",
      " [0.6662342  0.3337658 ]\n",
      " [0.82109928 0.17890072]\n",
      " [0.31851767 0.68148233]\n",
      " [0.94293081 0.05706919]\n",
      " [0.74970956 0.25029044]\n",
      " [0.65582144 0.34417856]\n",
      " [0.56528206 0.43471794]\n",
      " [0.18875676 0.81124324]\n",
      " [0.04552171 0.95447829]\n",
      " [0.22138902 0.77861098]\n",
      " [0.26837717 0.73162283]\n",
      " [0.84165701 0.15834299]\n",
      " [0.39599805 0.60400195]\n",
      " [0.45673936 0.54326064]\n",
      " [0.91142595 0.08857405]\n",
      " [0.89641721 0.10358279]\n",
      " [0.13289906 0.86710094]\n",
      " [0.90240315 0.09759685]\n",
      " [0.83292531 0.16707469]\n",
      " [0.59994434 0.40005566]\n",
      " [0.32948265 0.67051735]\n",
      " [0.05239476 0.94760524]\n",
      " [0.15036738 0.84963262]\n",
      " [0.72432763 0.27567237]\n",
      " [0.89893424 0.10106576]\n",
      " [0.59099812 0.40900188]\n",
      " [0.23304449 0.76695551]\n",
      " [0.22422795 0.77577205]\n",
      " [0.91708828 0.08291172]\n",
      " [0.91998396 0.08001604]]\n"
     ]
    }
   ],
   "source": [
    "probabilities = logistic_mod.predict_proba(Features1)\n",
    "print(probabilities[:500,:])"
   ]
  },
  {
   "cell_type": "code",
   "execution_count": 41,
   "metadata": {},
   "outputs": [
    {
     "name": "stdout",
     "output_type": "stream",
     "text": [
      "[0 1 0 0 0 0 1 1 1 0 0 0 0 0 0 0 0 0 1 0 0 0 1 0 0 0 0 1 1 0 1 0 0 0 1 1 1\n",
      " 0 0 0 0 0 0 0 0 0 0 1 1 0 0 1 0 0 0 0 0 0 0 0 0 0 0 1 0 1 1 1 0 1 1 0 0 0\n",
      " 0 1 1 1 0 0 1 0 0 1 0 0 0 1 1 0 0 1 0 0 0 1 0 0 0 0 0 0 0 1 0 0 0 0 0 0 1\n",
      " 0 0 0 0 1 0 0 0 1 1 0 1 0 1 0 0 0 1 1 0 0 1 0 0 1 1 0 1 0 0 0 1 0 1 0 0 0\n",
      " 0 0 1 0 0 0 0 0 0 0 1 1 0 0 1 0 1 0 1 1 0 0 0 1 0 0 0 0 1 0 0 1 0 0 1 0 0\n",
      " 0 1 0 0 0 0 0 0 0 0 0 0 0 0 1 0 0 0 1 1 0 1 1 0 1 0 0 1 0 0 1 0 0 1 1 0 0\n",
      " 1 1 0 0 0 1 1 0 1 0 0 0 0 0 1 0 0 0 1 0 0 0 1 0 0 0 1 1 1 0 0 0 1 1 0 0 1\n",
      " 0 0 0 0 0 1 1 0 1 1 0 1 0 0 0 0 0 1 0 1 0 0 0 0 0 0 0 0 0 0 0 0 0 0 1 0 1\n",
      " 1 0 0 0 0 0 1 0 0 0 1 1 1 1 0 1 1 0 0 0 0 0 1 0 0 0 0 0 1 0 0 1 0 0 1 0 1\n",
      " 0 1 1 1 0 1 0 0 0 0 1 0 0 1 0 1 0 0 1 0 0 0 1 1 0 0 0 1 0 0 0 0 0 0 0 0 0\n",
      " 1 0 0 0 0 0 0 0 0 1 1 1 0 0 0 1 1 0 0 1 0 0 1 0 0 0 1 0 0 0 0 1 0 1 1 0 1\n",
      " 0 0 0 0 0 0 0 1 0 1 1 0 0 0 0 0 0 0 0 0 0 0 0 0 0 0 1 1 0 1 1 0 0 0 1 0 1\n",
      " 0 0 0 0 0 0 0 1 0 0 0 0 1 0 0 0 0 0 1 0 1 1 0 1 0 0 0 0 1 0 0 0 0 1 1 1 1\n",
      " 0 1 1 0 0 1 0 0 0 1 1 1 0 0 0 1 1 0 0]\n"
     ]
    }
   ],
   "source": [
    "def score_model(probs, threshold):\n",
    "    return np.array([1 if x > threshold else 0 for x in probs[:,1]])\n",
    "scores = score_model(probabilities, 0.5)\n",
    "print(np.array(scores[:500]))\n",
    "#print(y_test[:15])"
   ]
  }
 ],
 "metadata": {
  "kernelspec": {
   "display_name": "Python 3",
   "language": "python",
   "name": "python3"
  },
  "language_info": {
   "codemirror_mode": {
    "name": "ipython",
    "version": 3
   },
   "file_extension": ".py",
   "mimetype": "text/x-python",
   "name": "python",
   "nbconvert_exporter": "python",
   "pygments_lexer": "ipython3",
   "version": "3.6.5"
  }
 },
 "nbformat": 4,
 "nbformat_minor": 2
}
