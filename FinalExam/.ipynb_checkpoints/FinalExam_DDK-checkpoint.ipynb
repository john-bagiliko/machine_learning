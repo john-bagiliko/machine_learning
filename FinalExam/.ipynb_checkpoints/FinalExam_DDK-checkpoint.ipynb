{
 "cells": [
  {
   "cell_type": "code",
   "execution_count": 1,
   "metadata": {},
   "outputs": [],
   "source": [
    "import pandas as pd\n",
    "import numpy as np\n",
    "import matplotlib.pyplot as plt\n",
    "import seaborn as sns\n",
    "\n",
    "%matplotlib inline"
   ]
  },
  {
   "cell_type": "code",
   "execution_count": 2,
   "metadata": {},
   "outputs": [
    {
     "ename": "FileNotFoundError",
     "evalue": "File b'AW_test.csv' does not exist",
     "output_type": "error",
     "traceback": [
      "\u001b[0;31m---------------------------------------------------------------------------\u001b[0m",
      "\u001b[0;31mFileNotFoundError\u001b[0m                         Traceback (most recent call last)",
      "\u001b[0;32m<ipython-input-2-396f2ea2ef79>\u001b[0m in \u001b[0;36m<module>\u001b[0;34m()\u001b[0m\n\u001b[1;32m      5\u001b[0m \u001b[0mmerged_df\u001b[0m\u001b[0;34m=\u001b[0m\u001b[0mpd\u001b[0m\u001b[0;34m.\u001b[0m\u001b[0mmerge\u001b[0m\u001b[0;34m(\u001b[0m\u001b[0mmerged_df1\u001b[0m\u001b[0;34m,\u001b[0m \u001b[0mbike_buyer\u001b[0m\u001b[0;34m,\u001b[0m \u001b[0mhow\u001b[0m\u001b[0;34m=\u001b[0m\u001b[0;34m\"left\"\u001b[0m\u001b[0;34m,\u001b[0m \u001b[0mon\u001b[0m\u001b[0;34m=\u001b[0m\u001b[0;34m'CustomerID'\u001b[0m\u001b[0;34m)\u001b[0m\u001b[0;34m\u001b[0m\u001b[0m\n\u001b[1;32m      6\u001b[0m \u001b[0;31m#merged_df=pd.merge(merged_df2, income_year, how=\"left\", on='CustomerID')\u001b[0m\u001b[0;34m\u001b[0m\u001b[0;34m\u001b[0m\u001b[0m\n\u001b[0;32m----> 7\u001b[0;31m \u001b[0mtest_data\u001b[0m\u001b[0;34m=\u001b[0m \u001b[0mpd\u001b[0m\u001b[0;34m.\u001b[0m\u001b[0mread_csv\u001b[0m\u001b[0;34m(\u001b[0m\u001b[0;34m'AW_test.csv'\u001b[0m\u001b[0;34m)\u001b[0m\u001b[0;34m\u001b[0m\u001b[0m\n\u001b[0m\u001b[1;32m      8\u001b[0m \u001b[0;34m\u001b[0m\u001b[0m\n\u001b[1;32m      9\u001b[0m \u001b[0mmerged_df\u001b[0m\u001b[0;34m.\u001b[0m\u001b[0mcolumns\u001b[0m\u001b[0;34m\u001b[0m\u001b[0m\n",
      "\u001b[0;32m/usr/local/lib/python3.6/site-packages/pandas/io/parsers.py\u001b[0m in \u001b[0;36mparser_f\u001b[0;34m(filepath_or_buffer, sep, delimiter, header, names, index_col, usecols, squeeze, prefix, mangle_dupe_cols, dtype, engine, converters, true_values, false_values, skipinitialspace, skiprows, nrows, na_values, keep_default_na, na_filter, verbose, skip_blank_lines, parse_dates, infer_datetime_format, keep_date_col, date_parser, dayfirst, iterator, chunksize, compression, thousands, decimal, lineterminator, quotechar, quoting, escapechar, comment, encoding, dialect, tupleize_cols, error_bad_lines, warn_bad_lines, skipfooter, skip_footer, doublequote, delim_whitespace, as_recarray, compact_ints, use_unsigned, low_memory, buffer_lines, memory_map, float_precision)\u001b[0m\n\u001b[1;32m    707\u001b[0m                     skip_blank_lines=skip_blank_lines)\n\u001b[1;32m    708\u001b[0m \u001b[0;34m\u001b[0m\u001b[0m\n\u001b[0;32m--> 709\u001b[0;31m         \u001b[0;32mreturn\u001b[0m \u001b[0m_read\u001b[0m\u001b[0;34m(\u001b[0m\u001b[0mfilepath_or_buffer\u001b[0m\u001b[0;34m,\u001b[0m \u001b[0mkwds\u001b[0m\u001b[0;34m)\u001b[0m\u001b[0;34m\u001b[0m\u001b[0m\n\u001b[0m\u001b[1;32m    710\u001b[0m \u001b[0;34m\u001b[0m\u001b[0m\n\u001b[1;32m    711\u001b[0m     \u001b[0mparser_f\u001b[0m\u001b[0;34m.\u001b[0m\u001b[0m__name__\u001b[0m \u001b[0;34m=\u001b[0m \u001b[0mname\u001b[0m\u001b[0;34m\u001b[0m\u001b[0m\n",
      "\u001b[0;32m/usr/local/lib/python3.6/site-packages/pandas/io/parsers.py\u001b[0m in \u001b[0;36m_read\u001b[0;34m(filepath_or_buffer, kwds)\u001b[0m\n\u001b[1;32m    447\u001b[0m \u001b[0;34m\u001b[0m\u001b[0m\n\u001b[1;32m    448\u001b[0m     \u001b[0;31m# Create the parser.\u001b[0m\u001b[0;34m\u001b[0m\u001b[0;34m\u001b[0m\u001b[0m\n\u001b[0;32m--> 449\u001b[0;31m     \u001b[0mparser\u001b[0m \u001b[0;34m=\u001b[0m \u001b[0mTextFileReader\u001b[0m\u001b[0;34m(\u001b[0m\u001b[0mfilepath_or_buffer\u001b[0m\u001b[0;34m,\u001b[0m \u001b[0;34m**\u001b[0m\u001b[0mkwds\u001b[0m\u001b[0;34m)\u001b[0m\u001b[0;34m\u001b[0m\u001b[0m\n\u001b[0m\u001b[1;32m    450\u001b[0m \u001b[0;34m\u001b[0m\u001b[0m\n\u001b[1;32m    451\u001b[0m     \u001b[0;32mif\u001b[0m \u001b[0mchunksize\u001b[0m \u001b[0;32mor\u001b[0m \u001b[0miterator\u001b[0m\u001b[0;34m:\u001b[0m\u001b[0;34m\u001b[0m\u001b[0m\n",
      "\u001b[0;32m/usr/local/lib/python3.6/site-packages/pandas/io/parsers.py\u001b[0m in \u001b[0;36m__init__\u001b[0;34m(self, f, engine, **kwds)\u001b[0m\n\u001b[1;32m    816\u001b[0m             \u001b[0mself\u001b[0m\u001b[0;34m.\u001b[0m\u001b[0moptions\u001b[0m\u001b[0;34m[\u001b[0m\u001b[0;34m'has_index_names'\u001b[0m\u001b[0;34m]\u001b[0m \u001b[0;34m=\u001b[0m \u001b[0mkwds\u001b[0m\u001b[0;34m[\u001b[0m\u001b[0;34m'has_index_names'\u001b[0m\u001b[0;34m]\u001b[0m\u001b[0;34m\u001b[0m\u001b[0m\n\u001b[1;32m    817\u001b[0m \u001b[0;34m\u001b[0m\u001b[0m\n\u001b[0;32m--> 818\u001b[0;31m         \u001b[0mself\u001b[0m\u001b[0;34m.\u001b[0m\u001b[0m_make_engine\u001b[0m\u001b[0;34m(\u001b[0m\u001b[0mself\u001b[0m\u001b[0;34m.\u001b[0m\u001b[0mengine\u001b[0m\u001b[0;34m)\u001b[0m\u001b[0;34m\u001b[0m\u001b[0m\n\u001b[0m\u001b[1;32m    819\u001b[0m \u001b[0;34m\u001b[0m\u001b[0m\n\u001b[1;32m    820\u001b[0m     \u001b[0;32mdef\u001b[0m \u001b[0mclose\u001b[0m\u001b[0;34m(\u001b[0m\u001b[0mself\u001b[0m\u001b[0;34m)\u001b[0m\u001b[0;34m:\u001b[0m\u001b[0;34m\u001b[0m\u001b[0m\n",
      "\u001b[0;32m/usr/local/lib/python3.6/site-packages/pandas/io/parsers.py\u001b[0m in \u001b[0;36m_make_engine\u001b[0;34m(self, engine)\u001b[0m\n\u001b[1;32m   1047\u001b[0m     \u001b[0;32mdef\u001b[0m \u001b[0m_make_engine\u001b[0m\u001b[0;34m(\u001b[0m\u001b[0mself\u001b[0m\u001b[0;34m,\u001b[0m \u001b[0mengine\u001b[0m\u001b[0;34m=\u001b[0m\u001b[0;34m'c'\u001b[0m\u001b[0;34m)\u001b[0m\u001b[0;34m:\u001b[0m\u001b[0;34m\u001b[0m\u001b[0m\n\u001b[1;32m   1048\u001b[0m         \u001b[0;32mif\u001b[0m \u001b[0mengine\u001b[0m \u001b[0;34m==\u001b[0m \u001b[0;34m'c'\u001b[0m\u001b[0;34m:\u001b[0m\u001b[0;34m\u001b[0m\u001b[0m\n\u001b[0;32m-> 1049\u001b[0;31m             \u001b[0mself\u001b[0m\u001b[0;34m.\u001b[0m\u001b[0m_engine\u001b[0m \u001b[0;34m=\u001b[0m \u001b[0mCParserWrapper\u001b[0m\u001b[0;34m(\u001b[0m\u001b[0mself\u001b[0m\u001b[0;34m.\u001b[0m\u001b[0mf\u001b[0m\u001b[0;34m,\u001b[0m \u001b[0;34m**\u001b[0m\u001b[0mself\u001b[0m\u001b[0;34m.\u001b[0m\u001b[0moptions\u001b[0m\u001b[0;34m)\u001b[0m\u001b[0;34m\u001b[0m\u001b[0m\n\u001b[0m\u001b[1;32m   1050\u001b[0m         \u001b[0;32melse\u001b[0m\u001b[0;34m:\u001b[0m\u001b[0;34m\u001b[0m\u001b[0m\n\u001b[1;32m   1051\u001b[0m             \u001b[0;32mif\u001b[0m \u001b[0mengine\u001b[0m \u001b[0;34m==\u001b[0m \u001b[0;34m'python'\u001b[0m\u001b[0;34m:\u001b[0m\u001b[0;34m\u001b[0m\u001b[0m\n",
      "\u001b[0;32m/usr/local/lib/python3.6/site-packages/pandas/io/parsers.py\u001b[0m in \u001b[0;36m__init__\u001b[0;34m(self, src, **kwds)\u001b[0m\n\u001b[1;32m   1693\u001b[0m         \u001b[0mkwds\u001b[0m\u001b[0;34m[\u001b[0m\u001b[0;34m'allow_leading_cols'\u001b[0m\u001b[0;34m]\u001b[0m \u001b[0;34m=\u001b[0m \u001b[0mself\u001b[0m\u001b[0;34m.\u001b[0m\u001b[0mindex_col\u001b[0m \u001b[0;32mis\u001b[0m \u001b[0;32mnot\u001b[0m \u001b[0;32mFalse\u001b[0m\u001b[0;34m\u001b[0m\u001b[0m\n\u001b[1;32m   1694\u001b[0m \u001b[0;34m\u001b[0m\u001b[0m\n\u001b[0;32m-> 1695\u001b[0;31m         \u001b[0mself\u001b[0m\u001b[0;34m.\u001b[0m\u001b[0m_reader\u001b[0m \u001b[0;34m=\u001b[0m \u001b[0mparsers\u001b[0m\u001b[0;34m.\u001b[0m\u001b[0mTextReader\u001b[0m\u001b[0;34m(\u001b[0m\u001b[0msrc\u001b[0m\u001b[0;34m,\u001b[0m \u001b[0;34m**\u001b[0m\u001b[0mkwds\u001b[0m\u001b[0;34m)\u001b[0m\u001b[0;34m\u001b[0m\u001b[0m\n\u001b[0m\u001b[1;32m   1696\u001b[0m \u001b[0;34m\u001b[0m\u001b[0m\n\u001b[1;32m   1697\u001b[0m         \u001b[0;31m# XXX\u001b[0m\u001b[0;34m\u001b[0m\u001b[0;34m\u001b[0m\u001b[0m\n",
      "\u001b[0;32mpandas/_libs/parsers.pyx\u001b[0m in \u001b[0;36mpandas._libs.parsers.TextReader.__cinit__\u001b[0;34m()\u001b[0m\n",
      "\u001b[0;32mpandas/_libs/parsers.pyx\u001b[0m in \u001b[0;36mpandas._libs.parsers.TextReader._setup_parser_source\u001b[0;34m()\u001b[0m\n",
      "\u001b[0;31mFileNotFoundError\u001b[0m: File b'AW_test.csv' does not exist"
     ]
    }
   ],
   "source": [
    "adv_works = pd.read_csv('AdvWorksCusts.csv')\n",
    "adv_month_spend = pd.read_csv('AW_AveMonthSpend.csv')\n",
    "bike_buyer= pd.read_csv('AW_BikeBuyer.csv')\n",
    "merged_df1=pd.merge(adv_works, adv_month_spend, how=\"left\", on='CustomerID')\n",
    "merged_df=pd.merge(merged_df1, bike_buyer, how=\"left\", on='CustomerID')\n",
    "#merged_df=pd.merge(merged_df2, income_year, how=\"left\", on='CustomerID')\n",
    "test_data= pd.read_csv('AW_test.csv')\n",
    "\n",
    "merged_df.columns"
   ]
  },
  {
   "cell_type": "code",
   "execution_count": 343,
   "metadata": {},
   "outputs": [
    {
     "data": {
      "text/html": [
       "<div>\n",
       "<style scoped>\n",
       "    .dataframe tbody tr th:only-of-type {\n",
       "        vertical-align: middle;\n",
       "    }\n",
       "\n",
       "    .dataframe tbody tr th {\n",
       "        vertical-align: top;\n",
       "    }\n",
       "\n",
       "    .dataframe thead th {\n",
       "        text-align: right;\n",
       "    }\n",
       "</style>\n",
       "<table border=\"1\" class=\"dataframe\">\n",
       "  <thead>\n",
       "    <tr style=\"text-align: right;\">\n",
       "      <th></th>\n",
       "      <th>CustomerID</th>\n",
       "      <th>Title</th>\n",
       "      <th>FirstName</th>\n",
       "      <th>MiddleName</th>\n",
       "      <th>LastName</th>\n",
       "      <th>Suffix</th>\n",
       "      <th>AddressLine1</th>\n",
       "      <th>AddressLine2</th>\n",
       "      <th>City</th>\n",
       "      <th>StateProvinceName</th>\n",
       "      <th>...</th>\n",
       "      <th>BirthDate</th>\n",
       "      <th>Education</th>\n",
       "      <th>Occupation</th>\n",
       "      <th>Gender</th>\n",
       "      <th>MaritalStatus</th>\n",
       "      <th>HomeOwnerFlag</th>\n",
       "      <th>NumberCarsOwned</th>\n",
       "      <th>NumberChildrenAtHome</th>\n",
       "      <th>TotalChildren</th>\n",
       "      <th>YearlyIncome</th>\n",
       "    </tr>\n",
       "  </thead>\n",
       "  <tbody>\n",
       "    <tr>\n",
       "      <th>0</th>\n",
       "      <td>18988</td>\n",
       "      <td>NaN</td>\n",
       "      <td>Courtney</td>\n",
       "      <td>A</td>\n",
       "      <td>Baker</td>\n",
       "      <td>NaN</td>\n",
       "      <td>8727 Buena Vista Ave.</td>\n",
       "      <td>NaN</td>\n",
       "      <td>Fremont</td>\n",
       "      <td>California</td>\n",
       "      <td>...</td>\n",
       "      <td>1/5/1945</td>\n",
       "      <td>Bachelors</td>\n",
       "      <td>Management</td>\n",
       "      <td>F</td>\n",
       "      <td>S</td>\n",
       "      <td>0</td>\n",
       "      <td>2</td>\n",
       "      <td>0</td>\n",
       "      <td>5</td>\n",
       "      <td>86931</td>\n",
       "    </tr>\n",
       "    <tr>\n",
       "      <th>1</th>\n",
       "      <td>29135</td>\n",
       "      <td>NaN</td>\n",
       "      <td>Adam</td>\n",
       "      <td>C</td>\n",
       "      <td>Allen</td>\n",
       "      <td>NaN</td>\n",
       "      <td>3491 Cook Street</td>\n",
       "      <td>NaN</td>\n",
       "      <td>Haney</td>\n",
       "      <td>British Columbia</td>\n",
       "      <td>...</td>\n",
       "      <td>10/4/1964</td>\n",
       "      <td>Bachelors</td>\n",
       "      <td>Skilled Manual</td>\n",
       "      <td>M</td>\n",
       "      <td>M</td>\n",
       "      <td>1</td>\n",
       "      <td>2</td>\n",
       "      <td>2</td>\n",
       "      <td>4</td>\n",
       "      <td>100125</td>\n",
       "    </tr>\n",
       "    <tr>\n",
       "      <th>2</th>\n",
       "      <td>12156</td>\n",
       "      <td>NaN</td>\n",
       "      <td>Bonnie</td>\n",
       "      <td>NaN</td>\n",
       "      <td>Raji</td>\n",
       "      <td>NaN</td>\n",
       "      <td>359 Pleasant Hill Rd</td>\n",
       "      <td>NaN</td>\n",
       "      <td>Burbank</td>\n",
       "      <td>California</td>\n",
       "      <td>...</td>\n",
       "      <td>1/12/1934</td>\n",
       "      <td>Graduate Degree</td>\n",
       "      <td>Management</td>\n",
       "      <td>F</td>\n",
       "      <td>M</td>\n",
       "      <td>1</td>\n",
       "      <td>2</td>\n",
       "      <td>0</td>\n",
       "      <td>4</td>\n",
       "      <td>103985</td>\n",
       "    </tr>\n",
       "    <tr>\n",
       "      <th>3</th>\n",
       "      <td>13749</td>\n",
       "      <td>NaN</td>\n",
       "      <td>Julio</td>\n",
       "      <td>C</td>\n",
       "      <td>Alonso</td>\n",
       "      <td>NaN</td>\n",
       "      <td>8945 Euclid Ave.</td>\n",
       "      <td>NaN</td>\n",
       "      <td>Burlingame</td>\n",
       "      <td>California</td>\n",
       "      <td>...</td>\n",
       "      <td>9/22/1958</td>\n",
       "      <td>Graduate Degree</td>\n",
       "      <td>Skilled Manual</td>\n",
       "      <td>M</td>\n",
       "      <td>M</td>\n",
       "      <td>1</td>\n",
       "      <td>0</td>\n",
       "      <td>0</td>\n",
       "      <td>4</td>\n",
       "      <td>127161</td>\n",
       "    </tr>\n",
       "    <tr>\n",
       "      <th>4</th>\n",
       "      <td>27780</td>\n",
       "      <td>NaN</td>\n",
       "      <td>Christy</td>\n",
       "      <td>A</td>\n",
       "      <td>Andersen</td>\n",
       "      <td>NaN</td>\n",
       "      <td>42, boulevard Tremblay</td>\n",
       "      <td>NaN</td>\n",
       "      <td>Dunkerque</td>\n",
       "      <td>Nord</td>\n",
       "      <td>...</td>\n",
       "      <td>3/19/1965</td>\n",
       "      <td>High School</td>\n",
       "      <td>Manual</td>\n",
       "      <td>F</td>\n",
       "      <td>M</td>\n",
       "      <td>1</td>\n",
       "      <td>1</td>\n",
       "      <td>2</td>\n",
       "      <td>2</td>\n",
       "      <td>21876</td>\n",
       "    </tr>\n",
       "  </tbody>\n",
       "</table>\n",
       "<p>5 rows × 23 columns</p>\n",
       "</div>"
      ],
      "text/plain": [
       "   CustomerID Title FirstName MiddleName  LastName Suffix  \\\n",
       "0       18988   NaN  Courtney          A     Baker    NaN   \n",
       "1       29135   NaN      Adam          C     Allen    NaN   \n",
       "2       12156   NaN    Bonnie        NaN      Raji    NaN   \n",
       "3       13749   NaN     Julio          C    Alonso    NaN   \n",
       "4       27780   NaN   Christy          A  Andersen    NaN   \n",
       "\n",
       "             AddressLine1 AddressLine2        City StateProvinceName  \\\n",
       "0   8727 Buena Vista Ave.          NaN     Fremont        California   \n",
       "1        3491 Cook Street          NaN       Haney  British Columbia   \n",
       "2    359 Pleasant Hill Rd          NaN     Burbank        California   \n",
       "3        8945 Euclid Ave.          NaN  Burlingame        California   \n",
       "4  42, boulevard Tremblay          NaN   Dunkerque              Nord   \n",
       "\n",
       "       ...       BirthDate        Education      Occupation Gender  \\\n",
       "0      ...        1/5/1945       Bachelors       Management      F   \n",
       "1      ...       10/4/1964       Bachelors   Skilled Manual      M   \n",
       "2      ...       1/12/1934  Graduate Degree      Management      F   \n",
       "3      ...       9/22/1958  Graduate Degree  Skilled Manual      M   \n",
       "4      ...       3/19/1965      High School          Manual      F   \n",
       "\n",
       "  MaritalStatus HomeOwnerFlag NumberCarsOwned NumberChildrenAtHome  \\\n",
       "0             S             0               2                    0   \n",
       "1             M             1               2                    2   \n",
       "2             M             1               2                    0   \n",
       "3             M             1               0                    0   \n",
       "4             M             1               1                    2   \n",
       "\n",
       "   TotalChildren  YearlyIncome  \n",
       "0              5         86931  \n",
       "1              4        100125  \n",
       "2              4        103985  \n",
       "3              4        127161  \n",
       "4              2         21876  \n",
       "\n",
       "[5 rows x 23 columns]"
      ]
     },
     "execution_count": 343,
     "metadata": {},
     "output_type": "execute_result"
    }
   ],
   "source": [
    "test_data.head()"
   ]
  },
  {
   "cell_type": "code",
   "execution_count": 344,
   "metadata": {},
   "outputs": [
    {
     "data": {
      "text/html": [
       "<div>\n",
       "<style scoped>\n",
       "    .dataframe tbody tr th:only-of-type {\n",
       "        vertical-align: middle;\n",
       "    }\n",
       "\n",
       "    .dataframe tbody tr th {\n",
       "        vertical-align: top;\n",
       "    }\n",
       "\n",
       "    .dataframe thead th {\n",
       "        text-align: right;\n",
       "    }\n",
       "</style>\n",
       "<table border=\"1\" class=\"dataframe\">\n",
       "  <thead>\n",
       "    <tr style=\"text-align: right;\">\n",
       "      <th></th>\n",
       "      <th>CustomerID</th>\n",
       "      <th>City</th>\n",
       "      <th>BirthDate</th>\n",
       "      <th>Education</th>\n",
       "      <th>Occupation</th>\n",
       "      <th>Gender</th>\n",
       "      <th>MaritalStatus</th>\n",
       "      <th>HomeOwnerFlag</th>\n",
       "      <th>NumberCarsOwned</th>\n",
       "      <th>NumberChildrenAtHome</th>\n",
       "      <th>TotalChildren</th>\n",
       "      <th>YearlyIncome</th>\n",
       "      <th>BikeBuyer</th>\n",
       "      <th>dummy</th>\n",
       "    </tr>\n",
       "  </thead>\n",
       "  <tbody>\n",
       "    <tr>\n",
       "      <th>0</th>\n",
       "      <td>11000</td>\n",
       "      <td>Rockhampton</td>\n",
       "      <td>1966-04-08</td>\n",
       "      <td>Bachelors</td>\n",
       "      <td>Professional</td>\n",
       "      <td>M</td>\n",
       "      <td>M</td>\n",
       "      <td>1</td>\n",
       "      <td>0</td>\n",
       "      <td>0</td>\n",
       "      <td>2</td>\n",
       "      <td>137947</td>\n",
       "      <td>0</td>\n",
       "      <td>1.0</td>\n",
       "    </tr>\n",
       "    <tr>\n",
       "      <th>1</th>\n",
       "      <td>11001</td>\n",
       "      <td>Seaford</td>\n",
       "      <td>1965-05-14</td>\n",
       "      <td>Bachelors</td>\n",
       "      <td>Professional</td>\n",
       "      <td>M</td>\n",
       "      <td>S</td>\n",
       "      <td>0</td>\n",
       "      <td>1</td>\n",
       "      <td>3</td>\n",
       "      <td>3</td>\n",
       "      <td>101141</td>\n",
       "      <td>1</td>\n",
       "      <td>1.0</td>\n",
       "    </tr>\n",
       "    <tr>\n",
       "      <th>2</th>\n",
       "      <td>11002</td>\n",
       "      <td>Hobart</td>\n",
       "      <td>1965-08-12</td>\n",
       "      <td>Bachelors</td>\n",
       "      <td>Professional</td>\n",
       "      <td>M</td>\n",
       "      <td>M</td>\n",
       "      <td>1</td>\n",
       "      <td>1</td>\n",
       "      <td>3</td>\n",
       "      <td>3</td>\n",
       "      <td>91945</td>\n",
       "      <td>0</td>\n",
       "      <td>1.0</td>\n",
       "    </tr>\n",
       "    <tr>\n",
       "      <th>3</th>\n",
       "      <td>11003</td>\n",
       "      <td>North Ryde</td>\n",
       "      <td>1968-02-15</td>\n",
       "      <td>Bachelors</td>\n",
       "      <td>Professional</td>\n",
       "      <td>F</td>\n",
       "      <td>S</td>\n",
       "      <td>0</td>\n",
       "      <td>1</td>\n",
       "      <td>0</td>\n",
       "      <td>0</td>\n",
       "      <td>86688</td>\n",
       "      <td>0</td>\n",
       "      <td>1.0</td>\n",
       "    </tr>\n",
       "    <tr>\n",
       "      <th>4</th>\n",
       "      <td>11004</td>\n",
       "      <td>Wollongong</td>\n",
       "      <td>1968-08-08</td>\n",
       "      <td>Bachelors</td>\n",
       "      <td>Professional</td>\n",
       "      <td>F</td>\n",
       "      <td>S</td>\n",
       "      <td>1</td>\n",
       "      <td>4</td>\n",
       "      <td>5</td>\n",
       "      <td>5</td>\n",
       "      <td>92771</td>\n",
       "      <td>1</td>\n",
       "      <td>1.0</td>\n",
       "    </tr>\n",
       "  </tbody>\n",
       "</table>\n",
       "</div>"
      ],
      "text/plain": [
       "   CustomerID         City   BirthDate   Education    Occupation Gender  \\\n",
       "0       11000  Rockhampton  1966-04-08  Bachelors   Professional      M   \n",
       "1       11001      Seaford  1965-05-14  Bachelors   Professional      M   \n",
       "2       11002       Hobart  1965-08-12  Bachelors   Professional      M   \n",
       "3       11003   North Ryde  1968-02-15  Bachelors   Professional      F   \n",
       "4       11004   Wollongong  1968-08-08  Bachelors   Professional      F   \n",
       "\n",
       "  MaritalStatus  HomeOwnerFlag  NumberCarsOwned  NumberChildrenAtHome  \\\n",
       "0             M              1                0                     0   \n",
       "1             S              0                1                     3   \n",
       "2             M              1                1                     3   \n",
       "3             S              0                1                     0   \n",
       "4             S              1                4                     5   \n",
       "\n",
       "   TotalChildren  YearlyIncome  BikeBuyer  dummy  \n",
       "0              2        137947          0    1.0  \n",
       "1              3        101141          1    1.0  \n",
       "2              3         91945          0    1.0  \n",
       "3              0         86688          0    1.0  \n",
       "4              5         92771          1    1.0  "
      ]
     },
     "execution_count": 344,
     "metadata": {},
     "output_type": "execute_result"
    }
   ],
   "source": [
    "merged_final.head()"
   ]
  },
  {
   "cell_type": "code",
   "execution_count": 345,
   "metadata": {},
   "outputs": [],
   "source": [
    "merged_final=merged_df.drop(['Title','FirstName','MiddleName','LastName','Suffix',\n",
    "                        'AddressLine1','AddressLine2','StateProvinceName',\n",
    "       'CountryRegionName', 'PostalCode','AveMonthSpend', 'PhoneNumber'], axis=1)\n",
    "\n",
    "\n",
    "test=test_data.drop(['Title','FirstName','MiddleName','LastName','Suffix',\n",
    "                        'AddressLine1','AddressLine2','StateProvinceName',\n",
    "       'CountryRegionName', 'PostalCode', 'PhoneNumber'], axis=1)"
   ]
  },
  {
   "cell_type": "markdown",
   "metadata": {},
   "source": [
    "## EXPLORATION ANALYSIS"
   ]
  },
  {
   "cell_type": "code",
   "execution_count": 346,
   "metadata": {},
   "outputs": [
    {
     "data": {
      "text/html": [
       "<div>\n",
       "<style scoped>\n",
       "    .dataframe tbody tr th:only-of-type {\n",
       "        vertical-align: middle;\n",
       "    }\n",
       "\n",
       "    .dataframe tbody tr th {\n",
       "        vertical-align: top;\n",
       "    }\n",
       "\n",
       "    .dataframe thead th {\n",
       "        text-align: right;\n",
       "    }\n",
       "</style>\n",
       "<table border=\"1\" class=\"dataframe\">\n",
       "  <thead>\n",
       "    <tr style=\"text-align: right;\">\n",
       "      <th></th>\n",
       "      <th>CustomerID</th>\n",
       "      <th>HomeOwnerFlag</th>\n",
       "      <th>NumberCarsOwned</th>\n",
       "      <th>NumberChildrenAtHome</th>\n",
       "      <th>TotalChildren</th>\n",
       "      <th>YearlyIncome</th>\n",
       "      <th>BikeBuyer</th>\n",
       "    </tr>\n",
       "  </thead>\n",
       "  <tbody>\n",
       "    <tr>\n",
       "      <th>count</th>\n",
       "      <td>17209.000000</td>\n",
       "      <td>17209.000000</td>\n",
       "      <td>17209.000000</td>\n",
       "      <td>17209.000000</td>\n",
       "      <td>17209.000000</td>\n",
       "      <td>17209.000000</td>\n",
       "      <td>17209.000000</td>\n",
       "    </tr>\n",
       "    <tr>\n",
       "      <th>mean</th>\n",
       "      <td>20200.378523</td>\n",
       "      <td>0.672671</td>\n",
       "      <td>1.508106</td>\n",
       "      <td>0.997211</td>\n",
       "      <td>2.016096</td>\n",
       "      <td>78084.818700</td>\n",
       "      <td>0.331513</td>\n",
       "    </tr>\n",
       "    <tr>\n",
       "      <th>std</th>\n",
       "      <td>5354.643340</td>\n",
       "      <td>0.469252</td>\n",
       "      <td>1.137949</td>\n",
       "      <td>1.519436</td>\n",
       "      <td>1.685089</td>\n",
       "      <td>39616.621179</td>\n",
       "      <td>0.470771</td>\n",
       "    </tr>\n",
       "    <tr>\n",
       "      <th>min</th>\n",
       "      <td>11000.000000</td>\n",
       "      <td>0.000000</td>\n",
       "      <td>0.000000</td>\n",
       "      <td>0.000000</td>\n",
       "      <td>0.000000</td>\n",
       "      <td>9482.000000</td>\n",
       "      <td>0.000000</td>\n",
       "    </tr>\n",
       "    <tr>\n",
       "      <th>25%</th>\n",
       "      <td>15531.000000</td>\n",
       "      <td>0.000000</td>\n",
       "      <td>1.000000</td>\n",
       "      <td>0.000000</td>\n",
       "      <td>0.000000</td>\n",
       "      <td>47773.000000</td>\n",
       "      <td>0.000000</td>\n",
       "    </tr>\n",
       "    <tr>\n",
       "      <th>50%</th>\n",
       "      <td>20157.000000</td>\n",
       "      <td>1.000000</td>\n",
       "      <td>2.000000</td>\n",
       "      <td>0.000000</td>\n",
       "      <td>2.000000</td>\n",
       "      <td>76090.000000</td>\n",
       "      <td>0.000000</td>\n",
       "    </tr>\n",
       "    <tr>\n",
       "      <th>75%</th>\n",
       "      <td>24850.000000</td>\n",
       "      <td>1.000000</td>\n",
       "      <td>2.000000</td>\n",
       "      <td>2.000000</td>\n",
       "      <td>3.000000</td>\n",
       "      <td>105065.000000</td>\n",
       "      <td>1.000000</td>\n",
       "    </tr>\n",
       "    <tr>\n",
       "      <th>max</th>\n",
       "      <td>29482.000000</td>\n",
       "      <td>1.000000</td>\n",
       "      <td>4.000000</td>\n",
       "      <td>5.000000</td>\n",
       "      <td>5.000000</td>\n",
       "      <td>196511.000000</td>\n",
       "      <td>1.000000</td>\n",
       "    </tr>\n",
       "  </tbody>\n",
       "</table>\n",
       "</div>"
      ],
      "text/plain": [
       "         CustomerID  HomeOwnerFlag  NumberCarsOwned  NumberChildrenAtHome  \\\n",
       "count  17209.000000   17209.000000     17209.000000          17209.000000   \n",
       "mean   20200.378523       0.672671         1.508106              0.997211   \n",
       "std     5354.643340       0.469252         1.137949              1.519436   \n",
       "min    11000.000000       0.000000         0.000000              0.000000   \n",
       "25%    15531.000000       0.000000         1.000000              0.000000   \n",
       "50%    20157.000000       1.000000         2.000000              0.000000   \n",
       "75%    24850.000000       1.000000         2.000000              2.000000   \n",
       "max    29482.000000       1.000000         4.000000              5.000000   \n",
       "\n",
       "       TotalChildren   YearlyIncome     BikeBuyer  \n",
       "count   17209.000000   17209.000000  17209.000000  \n",
       "mean        2.016096   78084.818700      0.331513  \n",
       "std         1.685089   39616.621179      0.470771  \n",
       "min         0.000000    9482.000000      0.000000  \n",
       "25%         0.000000   47773.000000      0.000000  \n",
       "50%         2.000000   76090.000000      0.000000  \n",
       "75%         3.000000  105065.000000      1.000000  \n",
       "max         5.000000  196511.000000      1.000000  "
      ]
     },
     "execution_count": 346,
     "metadata": {},
     "output_type": "execute_result"
    }
   ],
   "source": [
    "merged_final.describe()"
   ]
  },
  {
   "cell_type": "code",
   "execution_count": 347,
   "metadata": {},
   "outputs": [
    {
     "data": {
      "image/png": "[encoded data removed]",
      "text/plain": [
       "<Figure size 432x288 with 1 Axes>"
      ]
     },
     "metadata": {},
     "output_type": "display_data"
    }
   ],
   "source": [
    "\n",
    "def plot_box(merged_final, col, col_y = 'YearlyIncome'):\n",
    "    sns.set_style(\"whitegrid\")\n",
    "    sns.boxplot(col, col_y, data=merged_final)\n",
    "    plt.title(\"Yearly Income Vs Occupation\")\n",
    "    plt.xlabel(col) # Set text for the x axis\n",
    "    plt.ylabel(col_y)# Set text for y axis\n",
    "    plt.show()\n",
    "    \n",
    "plot_box(merged_final, 'Occupation')    "
   ]
  },
  {
   "cell_type": "code",
   "execution_count": 348,
   "metadata": {},
   "outputs": [
    {
     "data": {
      "text/plain": [
       "Text(0.5,1,'Marital Status Vs Bikebuyer')"
      ]
     },
     "execution_count": 348,
     "metadata": {},
     "output_type": "execute_result"
    },
    {
     "data": {
      "image/png": "[encoded data removed]",
      "text/plain": [
       "<Figure size 432x288 with 1 Axes>"
      ]
     },
     "metadata": {},
     "output_type": "display_data"
    }
   ],
   "source": [
    "sns.countplot(x='BikeBuyer', hue='MaritalStatus', data=merged_final)\n",
    "plt.title(\"Marital Status Vs Bikebuyer\")\n"
   ]
  },
  {
   "cell_type": "code",
   "execution_count": 349,
   "metadata": {},
   "outputs": [
    {
     "data": {
      "text/plain": [
       "Text(0.5,1,'Occupations Vs BikeBuyer')"
      ]
     },
     "execution_count": 349,
     "metadata": {},
     "output_type": "execute_result"
    },
    {
     "data": {
      "image/png": "[encoded data removed]",
      "text/plain": [
       "<Figure size 432x288 with 1 Axes>"
      ]
     },
     "metadata": {},
     "output_type": "display_data"
    }
   ],
   "source": [
    "sns.countplot(x='BikeBuyer', hue='Occupation', data=merged_final)\n",
    "plt.title(\"Occupations Vs BikeBuyer\")\n"
   ]
  },
  {
   "cell_type": "code",
   "execution_count": 350,
   "metadata": {},
   "outputs": [
    {
     "data": {
      "text/plain": [
       "Text(0.5,1,'Gender vs Bike Owner')"
      ]
     },
     "execution_count": 350,
     "metadata": {},
     "output_type": "execute_result"
    },
    {
     "data": {
      "image/png": "[encoded data removed]",
      "text/plain": [
       "<Figure size 432x288 with 1 Axes>"
      ]
     },
     "metadata": {},
     "output_type": "display_data"
    }
   ],
   "source": [
    "sns.countplot(x='BikeBuyer', hue='Gender', data=merged_final)\n",
    "plt.title(\"Gender vs Bike Owner\")\n",
    "\n",
    "#plt.show()\n"
   ]
  },
  {
   "cell_type": "code",
   "execution_count": 351,
   "metadata": {},
   "outputs": [
    {
     "data": {
      "image/png": "[encoded data removed]",
      "text/plain": [
       "<Figure size 432x288 with 1 Axes>"
      ]
     },
     "metadata": {},
     "output_type": "display_data"
    },
    {
     "data": {
      "image/png": "[encoded data removed]",
      "text/plain": [
       "<Figure size 432x288 with 1 Axes>"
      ]
     },
     "metadata": {},
     "output_type": "display_data"
    },
    {
     "data": {
      "image/png": "[encoded data removed]",
      "text/plain": [
       "<Figure size 432x288 with 1 Axes>"
      ]
     },
     "metadata": {},
     "output_type": "display_data"
    },
    {
     "data": {
      "image/png": "[encoded data removed]",
      "text/plain": [
       "<Figure size 432x288 with 1 Axes>"
      ]
     },
     "metadata": {},
     "output_type": "display_data"
    }
   ],
   "source": [
    "def plot_box(merged_final, cols, col_x = 'BikeBuyer'):\n",
    "    for col in cols:\n",
    "        sns.set_style(\"whitegrid\")\n",
    "        sns.boxplot(col_x, col, data=merged_final)\n",
    "        plt.xlabel(col_x) # Set text for the x axis\n",
    "        plt.ylabel(col)# Set text for y axis\n",
    "        plt.show()\n",
    "\n",
    "num_cols = ['NumberCarsOwned',\n",
    "       'NumberChildrenAtHome', 'TotalChildren', 'YearlyIncome']\n",
    "plot_box(merged_final, num_cols)"
   ]
  },
  {
   "cell_type": "code",
   "execution_count": 352,
   "metadata": {},
   "outputs": [
    {
     "data": {
      "image/png": "[encoded data removed]",
      "text/plain": [
       "<Figure size 432x288 with 1 Axes>"
      ]
     },
     "metadata": {},
     "output_type": "display_data"
    },
    {
     "data": {
      "image/png": "[encoded data removed]",
      "text/plain": [
       "<Figure size 432x288 with 1 Axes>"
      ]
     },
     "metadata": {},
     "output_type": "display_data"
    },
    {
     "data": {
      "image/png": "[encoded data removed]",
      "text/plain": [
       "<Figure size 432x288 with 1 Axes>"
      ]
     },
     "metadata": {},
     "output_type": "display_data"
    },
    {
     "data": {
      "image/png": "[encoded data removed]",
      "text/plain": [
       "<Figure size 432x288 with 1 Axes>"
      ]
     },
     "metadata": {},
     "output_type": "display_data"
    }
   ],
   "source": [
    "def plot_violin(merged_final, cols, col_x = 'BikeBuyer'):\n",
    "    for col in cols:\n",
    "        sns.set_style(\"whitegrid\")\n",
    "        sns.violinplot(col_x, col, data=merged_final)\n",
    "        plt.xlabel(col_x) # Set text for the x axis\n",
    "        plt.ylabel(col)# Set text for y axis\n",
    "        plt.show()\n",
    "\n",
    "plot_violin(merged_final, num_cols)"
   ]
  },
  {
   "cell_type": "code",
   "execution_count": 353,
   "metadata": {},
   "outputs": [
    {
     "name": "stdout",
     "output_type": "stream",
     "text": [
      "Education\n"
     ]
    },
    {
     "data": {
      "image/png": "[encoded data removed]",
      "text/plain": [
       "<Figure size 720x288 with 2 Axes>"
      ]
     },
     "metadata": {},
     "output_type": "display_data"
    },
    {
     "name": "stdout",
     "output_type": "stream",
     "text": [
      "Occupation\n"
     ]
    },
    {
     "data": {
      "image/png": "[encoded data removed]",
      "text/plain": [
       "<Figure size 720x288 with 2 Axes>"
      ]
     },
     "metadata": {},
     "output_type": "display_data"
    },
    {
     "name": "stdout",
     "output_type": "stream",
     "text": [
      "Gender\n"
     ]
    },
    {
     "data": {
      "image/png": "[encoded data removed]",
      "text/plain": [
       "<Figure size 720x288 with 2 Axes>"
      ]
     },
     "metadata": {},
     "output_type": "display_data"
    },
    {
     "name": "stdout",
     "output_type": "stream",
     "text": [
      "MaritalStatus\n"
     ]
    },
    {
     "data": {
      "image/png": "[encoded data removed]",
      "text/plain": [
       "<Figure size 720x288 with 2 Axes>"
      ]
     },
     "metadata": {},
     "output_type": "display_data"
    },
    {
     "name": "stdout",
     "output_type": "stream",
     "text": [
      "HomeOwnerFlag\n"
     ]
    },
    {
     "data": {
      "image/png": "[encoded data removed]",
      "text/plain": [
       "<Figure size 720x288 with 2 Axes>"
      ]
     },
     "metadata": {},
     "output_type": "display_data"
    }
   ],
   "source": [
    "import numpy as np\n",
    "cat_cols = ['Education', 'Occupation', 'Gender',\n",
    "       'MaritalStatus', 'HomeOwnerFlag']\n",
    "\n",
    "merged_final['dummy'] = np.ones(shape = merged_final.shape[0])\n",
    "for col in cat_cols:\n",
    "    print(col)\n",
    "    counts = merged_final[['dummy', 'BikeBuyer', col]].groupby(['BikeBuyer', col], as_index = False).count()\n",
    "    temp = counts[counts['BikeBuyer'] == 0][[col, 'dummy']]\n",
    "    _ = plt.figure(figsize = (10,4))\n",
    "    plt.subplot(1, 2, 1)\n",
    "    temp = counts[counts['BikeBuyer'] == 0][[col, 'dummy']]\n",
    "    plt.bar(temp[col], temp.dummy)\n",
    "    plt.xticks(rotation=90)\n",
    "    plt.title('Counts for ' + col + '\\n NoBike ')\n",
    "    plt.ylabel('count')\n",
    "    plt.subplot(1, 2, 2)\n",
    "    temp = counts[counts['BikeBuyer'] == 1][[col, 'dummy']]\n",
    "    plt.bar(temp[col], temp.dummy)\n",
    "    plt.xticks(rotation=90)\n",
    "    plt.title('Counts for ' + col + '\\n Owns Bike')\n",
    "    plt.ylabel('count')\n",
    "    plt.show()"
   ]
  },
  {
   "cell_type": "markdown",
   "metadata": {},
   "source": [
    "### CLASSIFICATION PROBLEM"
   ]
  },
  {
   "cell_type": "code",
   "execution_count": 354,
   "metadata": {},
   "outputs": [],
   "source": [
    "import pandas as pd\n",
    "import matplotlib.pyplot as plt\n",
    "import seaborn as sns\n",
    "import numpy as np\n",
    "import numpy.random as nr\n",
    "import math\n",
    "from sklearn import preprocessing\n",
    "import sklearn.model_selection as ms\n",
    "from sklearn import linear_model\n",
    "import sklearn.metrics as sklm\n",
    "\n",
    "%matplotlib inline"
   ]
  },
  {
   "cell_type": "code",
   "execution_count": 355,
   "metadata": {},
   "outputs": [],
   "source": [
    "labels = np.array(merged_final['BikeBuyer'])\n"
   ]
  },
  {
   "cell_type": "code",
   "execution_count": 356,
   "metadata": {},
   "outputs": [
    {
     "name": "stdout",
     "output_type": "stream",
     "text": [
      "(17209, 16)\n",
      "[[0. 0. 0. 1. 0. 1. 0. 0. 0. 0. 0. 1. 1. 0. 0. 1.]\n",
      " [0. 0. 0. 1. 0. 1. 0. 0. 0. 0. 0. 1. 0. 1. 1. 0.]]\n"
     ]
    }
   ],
   "source": [
    "def encode_string(cat_features):\n",
    "    ## First encode the strings to numeric categories\n",
    "    enc = preprocessing.LabelEncoder()\n",
    "    enc.fit(cat_features)\n",
    "    enc_cat_features = enc.transform(cat_features)\n",
    "    ## Now, apply one hot encoding\n",
    "    ohe = preprocessing.OneHotEncoder()\n",
    "    encoded = ohe.fit(enc_cat_features.reshape(-1,1))\n",
    "    return encoded.transform(enc_cat_features.reshape(-1,1)).toarray()\n",
    "\n",
    "categorical_columns = ['Education','Gender',\n",
    "       'MaritalStatus', 'HomeOwnerFlag']\n",
    "\n",
    "Features = encode_string(merged_final['Occupation'])\n",
    "for col in categorical_columns:\n",
    "    temp = encode_string(merged_final[col])\n",
    "    Features = np.concatenate([Features, temp], axis = 1)\n",
    "\n",
    "print(Features.shape)\n",
    "print(Features[:2, :]) \n",
    "\n",
    "\n"
   ]
  },
  {
   "cell_type": "code",
   "execution_count": 357,
   "metadata": {},
   "outputs": [
    {
     "data": {
      "text/plain": [
       "Professional      5209\n",
       "Skilled Manual    4227\n",
       "Management        2830\n",
       "Clerical          2751\n",
       "Manual            2192\n",
       "Name: Occupation, dtype: int64"
      ]
     },
     "execution_count": 357,
     "metadata": {},
     "output_type": "execute_result"
    }
   ],
   "source": [
    "merged_final['Occupation'].value_counts()"
   ]
  },
  {
   "cell_type": "markdown",
   "metadata": {},
   "source": [
    "Next the numeric features must be concatenated to the numpy array by executing the code in the cell below. "
   ]
  },
  {
   "cell_type": "code",
   "execution_count": 358,
   "metadata": {},
   "outputs": [
    {
     "name": "stdout",
     "output_type": "stream",
     "text": [
      "(17209, 20)\n",
      "[[0.00000e+00 0.00000e+00 0.00000e+00 1.00000e+00 0.00000e+00 1.00000e+00\n",
      "  0.00000e+00 0.00000e+00 0.00000e+00 0.00000e+00 0.00000e+00 1.00000e+00\n",
      "  1.00000e+00 0.00000e+00 0.00000e+00 1.00000e+00 0.00000e+00 0.00000e+00\n",
      "  2.00000e+00 1.37947e+05]\n",
      " [0.00000e+00 0.00000e+00 0.00000e+00 1.00000e+00 0.00000e+00 1.00000e+00\n",
      "  0.00000e+00 0.00000e+00 0.00000e+00 0.00000e+00 0.00000e+00 1.00000e+00\n",
      "  0.00000e+00 1.00000e+00 1.00000e+00 0.00000e+00 1.00000e+00 3.00000e+00\n",
      "  3.00000e+00 1.01141e+05]]\n"
     ]
    }
   ],
   "source": [
    "Features = np.concatenate([Features, np.array(merged_final[['NumberCarsOwned',\n",
    "       'NumberChildrenAtHome', 'TotalChildren', 'YearlyIncome']])], axis = 1)\n",
    "print(Features.shape)\n",
    "print(Features[:2, :])   \n"
   ]
  },
  {
   "cell_type": "code",
   "execution_count": 359,
   "metadata": {},
   "outputs": [],
   "source": [
    "nr.seed(9988)\n",
    "indx = range(Features.shape[0])\n",
    "indx = ms.train_test_split(indx, test_size = 300)\n",
    "X_train = Features[indx[0],:]\n",
    "y_train = np.ravel(labels[indx[0]])\n",
    "X_test = Features[indx[1],:]\n",
    "y_test = np.ravel(labels[indx[1]])"
   ]
  },
  {
   "cell_type": "markdown",
   "metadata": {},
   "source": [
    "With the dummy variables the original 4 categorical features are now 16 dummy variables. With the 4 numeric features there are a total of 20. "
   ]
  },
  {
   "cell_type": "markdown",
   "metadata": {},
   "source": [
    "You must split the cases into training and test data sets. This step is critical. If machine learning models are tested on the training data, the results will be both biased and overly optimistic.\n",
    "\n",
    "The code in the cell below performs the following processing:\n",
    "1. An index vector is Bernoulli sampled using the `train_test_split` function from the `model_selection` package of scikit-learn. \n",
    "2. The first column of the resulting index array contains the indices of the samples for the training cases. \n",
    "3. The second column of the resulting index array contains the indices of the samples for the test cases. \n",
    "\n",
    "Execute the code. "
   ]
  },
  {
   "cell_type": "code",
   "execution_count": 360,
   "metadata": {},
   "outputs": [],
   "source": [
    "## Randomly sample cases to create independent training and test data\n",
    "nr.seed(9988)\n",
    "indx = range(Features.shape[0])\n",
    "indx = ms.train_test_split(indx, test_size = 300)\n",
    "X_train = Features[indx[0],:]\n",
    "y_train = np.ravel(labels[indx[0]])\n",
    "X_test = Features[indx[1],:]\n",
    "y_test = np.ravel(labels[indx[1]])"
   ]
  },
  {
   "cell_type": "code",
   "execution_count": 361,
   "metadata": {},
   "outputs": [
    {
     "data": {
      "text/plain": [
       "array([[0.        , 1.        , 0.        , 0.        , 0.        ,\n",
       "        0.        , 1.        , 0.        , 0.        , 0.        ,\n",
       "        0.        , 1.        , 1.        , 0.        , 0.        ,\n",
       "        1.        , 2.        , 0.        , 2.        , 0.07794072],\n",
       "       [0.        , 1.        , 0.        , 0.        , 0.        ,\n",
       "        0.        , 1.        , 0.        , 0.        , 0.        ,\n",
       "        0.        , 1.        , 0.        , 1.        , 0.        ,\n",
       "        1.        , 2.        , 0.        , 4.        , 0.78384066]])"
      ]
     },
     "execution_count": 361,
     "metadata": {},
     "output_type": "execute_result"
    }
   ],
   "source": [
    "scaler = preprocessing.StandardScaler().fit(X_train[:,19:])\n",
    "X_train[:,19:] = scaler.transform(X_train[:,19:])\n",
    "X_test[:,19:] = scaler.transform(X_test[:,19:])\n",
    "X_train[:2,]"
   ]
  },
  {
   "cell_type": "markdown",
   "metadata": {},
   "source": [
    "The five numeric features are now scaled. "
   ]
  },
  {
   "cell_type": "markdown",
   "metadata": {},
   "source": [
    "## Construct the logistic regression model\n",
    "\n",
    "Now, it is time to compute the logistic regression model. The code in the cell below does the following:\n",
    "1. Define a logistic regression model object using the `LogisticRegression` method from the scikit-learn `linear_model` package.\n",
    "2. Fit the linear model using the numpy arrays of the features and the labels for the training data set.\n",
    "\n",
    "Execute this code. "
   ]
  },
  {
   "cell_type": "code",
   "execution_count": 362,
   "metadata": {},
   "outputs": [
    {
     "data": {
      "text/plain": [
       "LogisticRegression(C=1.0, class_weight=None, dual=False, fit_intercept=True,\n",
       "          intercept_scaling=1, max_iter=100, multi_class='ovr', n_jobs=1,\n",
       "          penalty='l2', random_state=None, solver='liblinear', tol=0.0001,\n",
       "          verbose=0, warm_start=False)"
      ]
     },
     "execution_count": 362,
     "metadata": {},
     "output_type": "execute_result"
    }
   ],
   "source": [
    "logistic_mod = linear_model.LogisticRegression() \n",
    "logistic_mod.fit(X_train, y_train)"
   ]
  },
  {
   "cell_type": "markdown",
   "metadata": {},
   "source": [
    "The model has been computed. Notice that the configuration of the model object has been printed. In this case, only default settings are shown, since no arguments were given to create the model object."
   ]
  },
  {
   "cell_type": "markdown",
   "metadata": {},
   "source": [
    "Now, print and examine the model coefficients by executing the code in the cell below. "
   ]
  },
  {
   "cell_type": "code",
   "execution_count": 363,
   "metadata": {},
   "outputs": [
    {
     "name": "stdout",
     "output_type": "stream",
     "text": [
      "[-0.51431817]\n",
      "[[ 0.03495339 -0.91682742  0.22233814 -0.00910527  0.15432299  0.24919921\n",
      "   0.06955933 -0.22906523 -0.1159627  -0.48804879 -0.57608231  0.06176414\n",
      "  -1.04510614  0.53078798 -0.31880936 -0.1955088  -0.07488917  0.8398002\n",
      "  -0.11247878  0.59713712]]\n"
     ]
    }
   ],
   "source": [
    "print(logistic_mod.intercept_)\n",
    "print(logistic_mod.coef_)"
   ]
  },
  {
   "cell_type": "markdown",
   "metadata": {},
   "source": [
    "First of all, notice that model coefficients look just as they would for an regression model. This is expected as previously explained. Additionally, nearly all the coefficients have the same magnitude indicating this model is likely to be overfit, given the number of features."
   ]
  },
  {
   "cell_type": "markdown",
   "metadata": {},
   "source": [
    "Recall that the logistic regression model outputs probabilities for each class. The class with the highest probability is taken as the score (prediction). Execute the code and the cell below to compute and display a sample of these class probabilities for the test feature set."
   ]
  },
  {
   "cell_type": "code",
   "execution_count": 364,
   "metadata": {},
   "outputs": [
    {
     "name": "stdout",
     "output_type": "stream",
     "text": [
      "[[0.4016381  0.5983619 ]\n",
      " [0.95699712 0.04300288]\n",
      " [0.83166799 0.16833201]\n",
      " [0.96638503 0.03361497]\n",
      " [0.04027409 0.95972591]\n",
      " [0.91410992 0.08589008]\n",
      " [0.94850005 0.05149995]\n",
      " [0.08906561 0.91093439]\n",
      " [0.18174072 0.81825928]\n",
      " [0.28270252 0.71729748]\n",
      " [0.88692586 0.11307414]\n",
      " [0.41583068 0.58416932]\n",
      " [0.94391993 0.05608007]\n",
      " [0.92774877 0.07225123]\n",
      " [0.67323036 0.32676964]]\n"
     ]
    }
   ],
   "source": [
    "probabilities = logistic_mod.predict_proba(X_test)\n",
    "print(probabilities[:15,:])"
   ]
  },
  {
   "cell_type": "markdown",
   "metadata": {},
   "source": [
    "The first column is the probability of a score of $0$ and the second column is the probability of a score of $1$. Notice that for most, but not all cases, the probability of a score of $0$ is higher than $1$."
   ]
  },
  {
   "cell_type": "markdown",
   "metadata": {},
   "source": [
    "## Score and evaluate the classification model\n",
    "\n",
    "Now that the class probabilities have been computed these values must be transformed into actual class scores. Recall that the log likelihoods for two-class logistic regression are computed by applying the sigmoid or logistic transformation to the output of the linear model. The simple choice is to set the threshold between the two likelihoods at $0.5$. The code in the cell below applies this initial threshold to the probability of a score of $0$ for the test data. A few examples along with the known labels are then displayed. Execute this code and examine the result."
   ]
  },
  {
   "cell_type": "code",
   "execution_count": 365,
   "metadata": {},
   "outputs": [
    {
     "name": "stdout",
     "output_type": "stream",
     "text": [
      "[1 0 0 0 1 0 0 1 1 1 0 1 0 0 0]\n",
      "[1 0 0 0 1 0 0 1 1 1 1 0 0 0 0]\n"
     ]
    }
   ],
   "source": [
    "def score_model(probs, threshold):\n",
    "    return np.array([1 if x > threshold else 0 for x in probs[:,1]])\n",
    "scores = score_model(probabilities, 0.5)\n",
    "print(np.array(scores[:15]))\n",
    "print(y_test[:15])"
   ]
  },
  {
   "cell_type": "markdown",
   "metadata": {},
   "source": [
    "Some of the positive ($1$) predictions agree with the test labels in the second row, but several do not."
   ]
  },
  {
   "cell_type": "markdown",
   "metadata": {},
   "source": [
    "Given the results of the test data, how can you quantify the performance of the model? In general, you must **always use multiple metrics to evaluate the performance of any machine leaning model**, including classifiers. \n",
    "\n",
    "For classifiers there are a number of metrics commonly used. The **confusion matrix** lays out the correctly and incorrectly classified cases in a tabular format. There are various metrics derived from the values in the confusion matrix. Some of the common cases are briefly reviewed below. \n",
    "\n",
    "**Confusion matrix**\n",
    "\n",
    "As already stated, the confusion matrix lays out correctly and incorrectly classified cases. For the binary (two-class) case the confusion matrix is organized as follows:\n",
    "\n",
    "| | Scored Positive | Scored Negative|  \n",
    "|------|:------:|:------:| \n",
    "|**Actual Positive** | True Positive | False Negative |\n",
    "|**Actual Negative**| False Positive | True Negative |   \n",
    "\n",
    "Here the four elements in the matrix are defined as:    \n",
    "**True Positive** or **TP** are cases with positive labels which have been correctly classified as positive.     \n",
    "**True Negative** or **TN** are cases with negative labels which have been correctly classified as negative.  \n",
    "**False Positive** or **FP** are cases with negative labels which have been incorrectly classified as positive.   \n",
    "**False Negative** or **FN** are cases with positive labels which have been incorrectly classified as negative.\n",
    "\n",
    "\n",
    "When creating a confusion matrix it is important to understand and maintain a convention for which differentiating positive and negative label values. The usual convention is to call the $1$ case positive and the $0$ case negative. \n",
    "\n",
    "Notice that there is an ambiguity in which case is considered positive and which is considered negative when the confusion matrix is computed. Whenever you examine a confusion matrix it is a good idea to spend a moment and decide which case is which. This step will help you relate the results to the problem at hand. \n",
    "\n",
    "**Accuracy**\n",
    "\n",
    "Accuracy is a simple and often misused metric. In simple terms, accuracy is the fraction of cases correctly classified. For a two-class classifier accuracy is written as:\n",
    "\n",
    "$$Accuracy = \\frac{TP+TN}{TP+FP+TN+FN}$$\n",
    "\n",
    "Accuracy can be quite misleading. For example, say a classifier is used to detect fraudulent accounts and the rate of fraud is less than 1%. A naive model would be to say all accounts are not fraudulent. This model has accuracy exceeding  0.99. This sounds impressive, but is clearly useless. \n",
    "\n",
    "**Precision**\n",
    "\n",
    "Precision is the fraction of correctly classified label cases out of all cases classified with that label value. We can express precision by the following relationship:\n",
    "\n",
    "$$Precision = \\frac{M_{i,i}}{\\sum_j M_{i,j}}$$\n",
    "\n",
    "In other words, the precision statistic is the number of correctly classified cases for the label value divided by all the cases in the column. Thus, precision is sensitive to the number of cases correctly classified for a given score value. \n",
    "\n",
    "**Recall**  \n",
    "\n",
    "Recall is the fraction of cases of a label value correctly classified out of all cases that actually have that label value. We can express recall by the following relationship:\n",
    "\n",
    "$$Recall = \\frac{M_{i,i}}{\\sum_i M_{i,j}}$$\n",
    "\n",
    "In other words, the recall statistic is the number of correctly classified cases for the label value divided by all the cases in the row. Thus, precision is sensitive to the number of cases correctly classified for a given true label value. \n",
    "\n",
    "**F1**\n",
    "\n",
    "The F1 statistic is weighted average of precision and recall. We can express F1 by the following relationship:\n",
    "\n",
    "$$F1 = 2 * \\frac{precision * recall}{precision + recall}$$\n",
    "\n",
    "In other words, F1 is a weighted metric for overall model performance. \n",
    "\n",
    "**ROC** and **AUC**\n",
    "\n",
    "The receiver operating characteristic or ROC is a curve that displays the relationship between the true positive rate on the vertical axis and false positive rate on the horizontal axis. The ROC curve shows the tradeoff between true positive rate and false positive rate. An example is illustrated below.   \n",
    "\n",
    "In principle, you can pick the desired operating point for a classifier on this curve. Towards the left favors low false positive rate at the expense of true positive rate. Towards the right favors high true positive rate at the expense of higher false positive rate.  \n",
    "\n",
    "\n",
    "\n",
    "<img src=\"img/ROC_AUC.JPG\" alt=\"drawing\" width=\"480px\"/>\n",
    "\n",
    "<center>**ROC curve with values of AUC for balanced two-class problem**</center>\n",
    "\n",
    "The AUC is the area or integral under the ROC curve. The overall performance of the classifier is measured by the area under the curve or AUC. But, how can you interpret a specific AUC value? The higher the AUC the lower the increase in false positive rate required to achieve a required true positive rate.  For an ideal classifier the AUC is 1.0. A true positive rate is achieved with a 0 false positive rate. This behavior means that AUC is useful for comparing classifiers. The classifier with higher AUC is generally the better one. \n",
    "\n",
    "For balanced cases, random guessing gives an AUC or 0.5. A balanced case has equal numbers of positive and negative cases. So Bernoulli sampling (random guessing) with a probability $p$ for the positive case, will produce a ROC curve that runs diagonally from $0.0,0.0$ to $1.0,1.0$. The area under this triangular region is 0.5. It is often said that a classifier with an AUC of greater than 0.5 is better than random guessing. But, **for unbalanced cases this statement is not in true in general**. \n",
    "\n",
    "****\n",
    "**Note:** The term receive operating characteristic may seem a bit odd in the machine learning context. This term arose in the early days of radar engineering as a metric to measure the tradeoff between radar signal receiver correctly detecting a target, say an aircraft, and producing a positive response from noise, such as flying birds or clouds. A radar receiver would be adjusted to the desired operating point along its ROC curve. \n",
    "****"
   ]
  },
  {
   "cell_type": "code",
   "execution_count": 366,
   "metadata": {},
   "outputs": [
    {
     "name": "stdout",
     "output_type": "stream",
     "text": [
      "                 Confusion matrix\n",
      "                 Score positive    Score negative\n",
      "Actual positive       181                21\n",
      "Actual negative        40                58\n",
      "\n",
      "Accuracy  0.80\n",
      " \n",
      "           Positive      Negative\n",
      "Num case      202            98\n",
      "Precision    0.82          0.73\n",
      "Recall       0.90          0.59\n",
      "F1           0.86          0.66\n"
     ]
    }
   ],
   "source": [
    "def print_metrics(labels, scores):\n",
    "    metrics = sklm.precision_recall_fscore_support(labels, scores)\n",
    "    conf = sklm.confusion_matrix(labels, scores)\n",
    "    print('                 Confusion matrix')\n",
    "    print('                 Score positive    Score negative')\n",
    "    print('Actual positive    %6d' % conf[0,0] + '             %5d' % conf[0,1])\n",
    "    print('Actual negative    %6d' % conf[1,0] + '             %5d' % conf[1,1])\n",
    "    print('')\n",
    "    print('Accuracy  %0.2f' % sklm.accuracy_score(labels, scores))\n",
    "    print(' ')\n",
    "    print('           Positive      Negative')\n",
    "    print('Num case   %6d' % metrics[3][0] + '        %6d' % metrics[3][1])\n",
    "    print('Precision  %6.2f' % metrics[0][0] + '        %6.2f' % metrics[0][1])\n",
    "    print('Recall     %6.2f' % metrics[1][0] + '        %6.2f' % metrics[1][1])\n",
    "    print('F1         %6.2f' % metrics[2][0] + '        %6.2f' % metrics[2][1])\n",
    "\n",
    "\n",
    "    \n",
    "print_metrics(y_test, scores)    "
   ]
  },
  {
   "cell_type": "markdown",
   "metadata": {},
   "source": [
    "## PREDICTION "
   ]
  },
  {
   "cell_type": "code",
   "execution_count": 367,
   "metadata": {},
   "outputs": [
    {
     "name": "stdout",
     "output_type": "stream",
     "text": [
      "(500, 16)\n",
      "[[0. 1. 0. 0. 0. 1. 0. 0. 0. 0. 1. 0. 0. 1. 1. 0.]\n",
      " [0. 0. 0. 0. 1. 1. 0. 0. 0. 0. 0. 1. 1. 0. 0. 1.]]\n"
     ]
    }
   ],
   "source": [
    "def encode_string(cat_features1):\n",
    "    ## First encode the strings to numeric categories\n",
    "    enc = preprocessing.LabelEncoder()\n",
    "    enc.fit(cat_features1)\n",
    "    enc_cat_features = enc.transform(cat_features1)\n",
    "    ## Now, apply one hot encoding\n",
    "    ohe = preprocessing.OneHotEncoder()\n",
    "    encoded = ohe.fit(enc_cat_features.reshape(-1,1))\n",
    "    return encoded.transform(enc_cat_features.reshape(-1,1)).toarray()\n",
    "\n",
    "categorical_columns = ['Education','Gender',\n",
    "       'MaritalStatus', 'HomeOwnerFlag']\n",
    "\n",
    "Features1 = encode_string(test['Occupation'])\n",
    "for col in categorical_columns:\n",
    "    temp = encode_string(test[col])\n",
    "    Features1 = np.concatenate([Features1, temp], axis = 1)\n",
    "\n",
    "print(Features1.shape)\n",
    "print(Features1[:2, :]) \n"
   ]
  },
  {
   "cell_type": "code",
   "execution_count": 368,
   "metadata": {},
   "outputs": [
    {
     "data": {
      "text/plain": [
       "Professional      146\n",
       "Skilled Manual    134\n",
       "Management         91\n",
       "Clerical           73\n",
       "Manual             56\n",
       "Name: Occupation, dtype: int64"
      ]
     },
     "execution_count": 368,
     "metadata": {},
     "output_type": "execute_result"
    }
   ],
   "source": [
    "test['Occupation'].value_counts()"
   ]
  },
  {
   "cell_type": "code",
   "execution_count": 369,
   "metadata": {},
   "outputs": [
    {
     "name": "stdout",
     "output_type": "stream",
     "text": [
      "(500, 20)\n",
      "[[0.00000e+00 1.00000e+00 0.00000e+00 0.00000e+00 0.00000e+00 1.00000e+00\n",
      "  0.00000e+00 0.00000e+00 0.00000e+00 0.00000e+00 1.00000e+00 0.00000e+00\n",
      "  0.00000e+00 1.00000e+00 1.00000e+00 0.00000e+00 2.00000e+00 0.00000e+00\n",
      "  5.00000e+00 8.69310e+04]\n",
      " [0.00000e+00 0.00000e+00 0.00000e+00 0.00000e+00 1.00000e+00 1.00000e+00\n",
      "  0.00000e+00 0.00000e+00 0.00000e+00 0.00000e+00 0.00000e+00 1.00000e+00\n",
      "  1.00000e+00 0.00000e+00 0.00000e+00 1.00000e+00 2.00000e+00 2.00000e+00\n",
      "  4.00000e+00 1.00125e+05]]\n"
     ]
    }
   ],
   "source": [
    "Features1 = np.concatenate([Features1, np.array(test[['NumberCarsOwned',\n",
    "       'NumberChildrenAtHome', 'TotalChildren', 'YearlyIncome']])], axis = 1)\n",
    "print(Features1.shape)\n",
    "print(Features1[:2, :])   \n"
   ]
  },
  {
   "cell_type": "code",
   "execution_count": 370,
   "metadata": {},
   "outputs": [
    {
     "data": {
      "text/plain": [
       "array([[0.        , 1.        , 0.        , 0.        , 0.        ,\n",
       "        1.        , 0.        , 0.        , 0.        , 0.        ,\n",
       "        1.        , 0.        , 0.        , 1.        , 1.        ,\n",
       "        0.        , 2.        , 0.        , 5.        , 0.22333248],\n",
       "       [0.        , 0.        , 0.        , 0.        , 1.        ,\n",
       "        1.        , 0.        , 0.        , 0.        , 0.        ,\n",
       "        0.        , 1.        , 1.        , 0.        , 0.        ,\n",
       "        1.        , 2.        , 2.        , 4.        , 0.55648614]])"
      ]
     },
     "execution_count": 370,
     "metadata": {},
     "output_type": "execute_result"
    }
   ],
   "source": [
    "#scaler = preprocessing.StandardScaler().fit(Features1[:,19:])\n",
    "Features1[:,19:] = scaler.transform(Features1[:,19:])\n",
    "Features1[:2,]"
   ]
  },
  {
   "cell_type": "code",
   "execution_count": 371,
   "metadata": {},
   "outputs": [
    {
     "name": "stdout",
     "output_type": "stream",
     "text": [
      "[[0.89329627 0.10670373]\n",
      " [0.46939862 0.53060138]\n",
      " [0.96731088 0.03268912]\n",
      " [0.76481399 0.23518601]\n",
      " [0.8588201  0.1411799 ]\n",
      " [0.95715197 0.04284803]\n",
      " [0.20418179 0.79581821]\n",
      " [0.17462723 0.82537277]\n",
      " [0.18574268 0.81425732]\n",
      " [0.85256671 0.14743329]\n",
      " [0.54427922 0.45572078]\n",
      " [0.95023056 0.04976944]\n",
      " [0.92649531 0.07350469]\n",
      " [0.96853282 0.03146718]\n",
      " [0.80414872 0.19585128]\n",
      " [0.89515644 0.10484356]\n",
      " [0.79944888 0.20055112]\n",
      " [0.67846629 0.32153371]\n",
      " [0.06913039 0.93086961]\n",
      " [0.51618392 0.48381608]\n",
      " [0.94341446 0.05658554]\n",
      " [0.83949486 0.16050514]\n",
      " [0.09955361 0.90044639]\n",
      " [0.72195868 0.27804132]\n",
      " [0.93779161 0.06220839]\n",
      " [0.7091764  0.2908236 ]\n",
      " [0.71692892 0.28307108]\n",
      " [0.08075955 0.91924045]\n",
      " [0.43169325 0.56830675]\n",
      " [0.91891503 0.08108497]\n",
      " [0.2417066  0.7582934 ]\n",
      " [0.56682655 0.43317345]\n",
      " [0.97790113 0.02209887]\n",
      " [0.78373331 0.21626669]\n",
      " [0.26480915 0.73519085]\n",
      " [0.14850639 0.85149361]\n",
      " [0.13272363 0.86727637]\n",
      " [0.62944531 0.37055469]\n",
      " [0.86515737 0.13484263]\n",
      " [0.70984151 0.29015849]\n",
      " [0.64411308 0.35588692]\n",
      " [0.53108158 0.46891842]\n",
      " [0.83752064 0.16247936]\n",
      " [0.91079149 0.08920851]\n",
      " [0.83534177 0.16465823]\n",
      " [0.8915006  0.1084994 ]\n",
      " [0.8655474  0.1344526 ]\n",
      " [0.0980872  0.9019128 ]\n",
      " [0.45485435 0.54514565]\n",
      " [0.86977308 0.13022692]\n",
      " [0.91373449 0.08626551]\n",
      " [0.35865729 0.64134271]\n",
      " [0.76044123 0.23955877]\n",
      " [0.95552425 0.04447575]\n",
      " [0.96372756 0.03627244]\n",
      " [0.84448309 0.15551691]\n",
      " [0.89023996 0.10976004]\n",
      " [0.55483644 0.44516356]\n",
      " [0.96788466 0.03211534]\n",
      " [0.6683309  0.3316691 ]\n",
      " [0.93149827 0.06850173]\n",
      " [0.97433048 0.02566952]\n",
      " [0.75330837 0.24669163]\n",
      " [0.21936793 0.78063207]\n",
      " [0.69278688 0.30721312]\n",
      " [0.12973046 0.87026954]\n",
      " [0.36508535 0.63491465]\n",
      " [0.22237102 0.77762898]\n",
      " [0.8060071  0.1939929 ]\n",
      " [0.2402158  0.7597842 ]\n",
      " [0.48784567 0.51215433]\n",
      " [0.95629056 0.04370944]\n",
      " [0.751261   0.248739  ]\n",
      " [0.96492918 0.03507082]\n",
      " [0.70963804 0.29036196]\n",
      " [0.22730348 0.77269652]\n",
      " [0.08772422 0.91227578]\n",
      " [0.29196097 0.70803903]\n",
      " [0.83896183 0.16103817]\n",
      " [0.94767208 0.05232792]\n",
      " [0.42407739 0.57592261]\n",
      " [0.58802645 0.41197355]\n",
      " [0.94004125 0.05995875]\n",
      " [0.41550291 0.58449709]\n",
      " [0.74426676 0.25573324]\n",
      " [0.96074092 0.03925908]\n",
      " [0.83464921 0.16535079]\n",
      " [0.08849292 0.91150708]\n",
      " [0.19607456 0.80392544]\n",
      " [0.93313659 0.06686341]\n",
      " [0.95550354 0.04449646]\n",
      " [0.41971834 0.58028166]\n",
      " [0.89747756 0.10252244]\n",
      " [0.64710449 0.35289551]\n",
      " [0.97673313 0.02326687]\n",
      " [0.11468325 0.88531675]\n",
      " [0.82967593 0.17032407]\n",
      " [0.9077378  0.0922622 ]\n",
      " [0.96122987 0.03877013]\n",
      " [0.89132132 0.10867868]\n",
      " [0.50302562 0.49697438]\n",
      " [0.72385236 0.27614764]\n",
      " [0.92931964 0.07068036]\n",
      " [0.08696571 0.91303429]\n",
      " [0.82354277 0.17645723]\n",
      " [0.58972681 0.41027319]\n",
      " [0.88744743 0.11255257]\n",
      " [0.84526708 0.15473292]\n",
      " [0.7337605  0.2662395 ]\n",
      " [0.90563536 0.09436464]\n",
      " [0.44675218 0.55324782]\n",
      " [0.6034028  0.3965972 ]\n",
      " [0.50194794 0.49805206]\n",
      " [0.83782061 0.16217939]\n",
      " [0.89149476 0.10850524]\n",
      " [0.41521855 0.58478145]\n",
      " [0.86263051 0.13736949]\n",
      " [0.79599367 0.20400633]\n",
      " [0.76375914 0.23624086]\n",
      " [0.33532077 0.66467923]\n",
      " [0.25933857 0.74066143]\n",
      " [0.59723059 0.40276941]\n",
      " [0.49551903 0.50448097]\n",
      " [0.98697086 0.01302914]\n",
      " [0.49930342 0.50069658]\n",
      " [0.9218189  0.0781811 ]\n",
      " [0.8387395  0.1612605 ]\n",
      " [0.6579598  0.3420402 ]\n",
      " [0.33258391 0.66741609]\n",
      " [0.29628285 0.70371715]\n",
      " [0.84067289 0.15932711]\n",
      " [0.75930607 0.24069393]\n",
      " [0.32990563 0.67009437]\n",
      " [0.77777931 0.22222069]\n",
      " [0.95306601 0.04693399]\n",
      " [0.32627435 0.67372565]\n",
      " [0.05368856 0.94631144]\n",
      " [0.81217758 0.18782242]\n",
      " [0.48830319 0.51169681]\n",
      " [0.81811773 0.18188227]\n",
      " [0.66831062 0.33168938]\n",
      " [0.96564387 0.03435613]\n",
      " [0.44283921 0.55716079]\n",
      " [0.84741194 0.15258806]\n",
      " [0.24882051 0.75117949]\n",
      " [0.89875191 0.10124809]\n",
      " [0.92309555 0.07690445]\n",
      " [0.94797938 0.05202062]\n",
      " [0.96167147 0.03832853]\n",
      " [0.74899276 0.25100724]\n",
      " [0.32906047 0.67093953]\n",
      " [0.95509192 0.04490808]\n",
      " [0.69520934 0.30479066]\n",
      " [0.82948854 0.17051146]\n",
      " [0.68172629 0.31827371]\n",
      " [0.88928444 0.11071556]\n",
      " [0.55697515 0.44302485]\n",
      " [0.94066474 0.05933526]\n",
      " [0.42466291 0.57533709]\n",
      " [0.38415734 0.61584266]\n",
      " [0.98034934 0.01965066]\n",
      " [0.60498015 0.39501985]\n",
      " [0.3886929  0.6113071 ]\n",
      " [0.73547938 0.26452062]\n",
      " [0.19194654 0.80805346]\n",
      " [0.91673612 0.08326388]\n",
      " [0.460827   0.539173  ]\n",
      " [0.20821958 0.79178042]\n",
      " [0.70305798 0.29694202]\n",
      " [0.88586784 0.11413216]\n",
      " [0.887909   0.112091  ]\n",
      " [0.23284327 0.76715673]\n",
      " [0.88867905 0.11132095]\n",
      " [0.92773958 0.07226042]\n",
      " [0.7975435  0.2024565 ]\n",
      " [0.92461576 0.07538424]\n",
      " [0.32009653 0.67990347]\n",
      " [0.92726275 0.07273725]\n",
      " [0.92224268 0.07775732]\n",
      " [0.15290181 0.84709819]\n",
      " [0.95877505 0.04122495]\n",
      " [0.87078444 0.12921556]\n",
      " [0.21263409 0.78736591]\n",
      " [0.93528651 0.06471349]\n",
      " [0.90112699 0.09887301]\n",
      " [0.71984154 0.28015846]\n",
      " [0.3813201  0.6186799 ]\n",
      " [0.91501232 0.08498768]\n",
      " [0.92498247 0.07501753]\n",
      " [0.53094896 0.46905104]\n",
      " [0.89909521 0.10090479]\n",
      " [0.93682364 0.06317636]\n",
      " [0.84224887 0.15775113]\n",
      " [0.9170391  0.0829609 ]\n",
      " [0.54906852 0.45093148]\n",
      " [0.86167947 0.13832053]\n",
      " [0.64022068 0.35977932]\n",
      " [0.85194067 0.14805933]\n",
      " [0.96959426 0.03040574]\n",
      " [0.12765874 0.87234126]\n",
      " [0.88502531 0.11497469]\n",
      " [0.88723447 0.11276553]\n",
      " [0.83732786 0.16267214]\n",
      " [0.49479568 0.50520432]\n",
      " [0.14146738 0.85853262]\n",
      " [0.89154074 0.10845926]\n",
      " [0.29867324 0.70132676]\n",
      " [0.19336091 0.80663909]\n",
      " [0.77548993 0.22451007]\n",
      " [0.34688887 0.65311113]\n",
      " [0.87768686 0.12231314]\n",
      " [0.64677952 0.35322048]\n",
      " [0.03767782 0.96232218]\n",
      " [0.77141179 0.22858821]\n",
      " [0.71407154 0.28592846]\n",
      " [0.44794656 0.55205344]\n",
      " [0.92583872 0.07416128]\n",
      " [0.93665857 0.06334143]\n",
      " [0.35815298 0.64184702]\n",
      " [0.36606418 0.63393582]\n",
      " [0.69467487 0.30532513]\n",
      " [0.53275962 0.46724038]\n",
      " [0.39214391 0.60785609]\n",
      " [0.27440621 0.72559379]\n",
      " [0.74851653 0.25148347]\n",
      " [0.96622412 0.03377588]\n",
      " [0.88433278 0.11566722]\n",
      " [0.06448466 0.93551534]\n",
      " [0.38114208 0.61885792]\n",
      " [0.70157578 0.29842422]\n",
      " [0.30849382 0.69150618]\n",
      " [0.95900674 0.04099326]\n",
      " [0.91284379 0.08715621]\n",
      " [0.88945116 0.11054884]\n",
      " [0.52148411 0.47851589]\n",
      " [0.94222775 0.05777225]\n",
      " [0.25221744 0.74778256]\n",
      " [0.56052559 0.43947441]\n",
      " [0.7207128  0.2792872 ]\n",
      " [0.92921828 0.07078172]\n",
      " [0.33850394 0.66149606]\n",
      " [0.89370113 0.10629887]\n",
      " [0.77291517 0.22708483]\n",
      " [0.74483313 0.25516687]\n",
      " [0.31682328 0.68317672]\n",
      " [0.92448659 0.07551341]\n",
      " [0.84414225 0.15585775]\n",
      " [0.74766991 0.25233009]\n",
      " [0.29006254 0.70993746]\n",
      " [0.36312362 0.63687638]\n",
      " [0.20341015 0.79658985]\n",
      " [0.83956193 0.16043807]\n",
      " [0.68067162 0.31932838]\n",
      " [0.98161168 0.01838832]\n",
      " [0.25034795 0.74965205]\n",
      " [0.46589461 0.53410539]\n",
      " [0.93894618 0.06105382]\n",
      " [0.59948996 0.40051004]\n",
      " [0.07926302 0.92073698]\n",
      " [0.85771163 0.14228837]\n",
      " [0.96752525 0.03247475]\n",
      " [0.68551505 0.31448495]\n",
      " [0.62039818 0.37960182]\n",
      " [0.67972673 0.32027327]\n",
      " [0.21189628 0.78810372]\n",
      " [0.29445675 0.70554325]\n",
      " [0.83861223 0.16138777]\n",
      " [0.44792865 0.55207135]\n",
      " [0.16141503 0.83858497]\n",
      " [0.90608161 0.09391839]\n",
      " [0.03165583 0.96834417]\n",
      " [0.72930141 0.27069859]\n",
      " [0.8937267  0.1062733 ]\n",
      " [0.7506262  0.2493738 ]\n",
      " [0.54346306 0.45653694]\n",
      " [0.94301359 0.05698641]\n",
      " [0.17872437 0.82127563]\n",
      " [0.68032143 0.31967857]\n",
      " [0.0708827  0.9291173 ]\n",
      " [0.89601513 0.10398487]\n",
      " [0.76306506 0.23693494]\n",
      " [0.92298492 0.07701508]\n",
      " [0.90256879 0.09743121]\n",
      " [0.8367243  0.1632757 ]\n",
      " [0.5777018  0.4222982 ]\n",
      " [0.90359776 0.09640224]\n",
      " [0.52549602 0.47450398]\n",
      " [0.93502026 0.06497974]\n",
      " [0.83883468 0.16116532]\n",
      " [0.63265859 0.36734141]\n",
      " [0.8837528  0.1162472 ]\n",
      " [0.91475001 0.08524999]\n",
      " [0.72135684 0.27864316]\n",
      " [0.07654146 0.92345854]\n",
      " [0.8482147  0.1517853 ]\n",
      " [0.16275592 0.83724408]\n",
      " [0.1061996  0.8938004 ]\n",
      " [0.97355648 0.02644352]\n",
      " [0.75534044 0.24465956]\n",
      " [0.96763929 0.03236071]\n",
      " [0.64834261 0.35165739]\n",
      " [0.84766803 0.15233197]\n",
      " [0.08480305 0.91519695]\n",
      " [0.56077204 0.43922796]\n",
      " [0.94963022 0.05036978]\n",
      " [0.79248228 0.20751772]\n",
      " [0.07178752 0.92821248]\n",
      " [0.12212688 0.87787312]\n",
      " [0.21026229 0.78973771]\n",
      " [0.34508331 0.65491669]\n",
      " [0.79468069 0.20531931]\n",
      " [0.1999     0.8001    ]\n",
      " [0.05026139 0.94973861]\n",
      " [0.92914531 0.07085469]\n",
      " [0.91721164 0.08278836]\n",
      " [0.95791001 0.04208999]\n",
      " [0.8324623  0.1675377 ]\n",
      " [0.88379441 0.11620559]\n",
      " [0.10056875 0.89943125]\n",
      " [0.93095323 0.06904677]\n",
      " [0.92531737 0.07468263]\n",
      " [0.94385145 0.05614855]\n",
      " [0.92528903 0.07471097]\n",
      " [0.92477716 0.07522284]\n",
      " [0.15418795 0.84581205]\n",
      " [0.79713103 0.20286897]\n",
      " [0.74580617 0.25419383]\n",
      " [0.39570047 0.60429953]\n",
      " [0.8391834  0.1608166 ]\n",
      " [0.65240198 0.34759802]\n",
      " [0.40912493 0.59087507]\n",
      " [0.77636574 0.22363426]\n",
      " [0.0888959  0.9111041 ]\n",
      " [0.85583553 0.14416447]\n",
      " [0.30832497 0.69167503]\n",
      " [0.3127021  0.6872979 ]\n",
      " [0.42560802 0.57439198]\n",
      " [0.8360927  0.1639073 ]\n",
      " [0.2950148  0.7049852 ]\n",
      " [0.71471787 0.28528213]\n",
      " [0.74444511 0.25555489]\n",
      " [0.84957047 0.15042953]\n",
      " [0.52949836 0.47050164]\n",
      " [0.43681359 0.56318641]\n",
      " [0.90500299 0.09499701]\n",
      " [0.94806232 0.05193768]\n",
      " [0.41253181 0.58746819]\n",
      " [0.8393093  0.1606907 ]\n",
      " [0.15667963 0.84332037]\n",
      " [0.70898351 0.29101649]\n",
      " [0.81329627 0.18670373]\n",
      " [0.43114774 0.56885226]\n",
      " [0.8526783  0.1473217 ]\n",
      " [0.58714834 0.41285166]\n",
      " [0.97103066 0.02896934]\n",
      " [0.41644635 0.58355365]\n",
      " [0.11001853 0.88998147]\n",
      " [0.65156014 0.34843986]\n",
      " [0.79660947 0.20339053]\n",
      " [0.90998464 0.09001536]\n",
      " [0.07352978 0.92647022]\n",
      " [0.58445981 0.41554019]\n",
      " [0.91347782 0.08652218]\n",
      " [0.66933142 0.33066858]\n",
      " [0.74960781 0.25039219]\n",
      " [0.86397318 0.13602682]\n",
      " [0.68292197 0.31707803]\n",
      " [0.94679019 0.05320981]\n",
      " [0.92632817 0.07367183]\n",
      " [0.76184096 0.23815904]\n",
      " [0.02202238 0.97797762]\n",
      " [0.93972975 0.06027025]\n",
      " [0.67701619 0.32298381]\n",
      " [0.56253927 0.43746073]\n",
      " [0.51275984 0.48724016]\n",
      " [0.68595279 0.31404721]\n",
      " [0.53070602 0.46929398]\n",
      " [0.9407296  0.0592704 ]\n",
      " [0.82905884 0.17094116]\n",
      " [0.04322961 0.95677039]\n",
      " [0.14201334 0.85798666]\n",
      " [0.2150742  0.7849258 ]\n",
      " [0.88971381 0.11028619]\n",
      " [0.8892938  0.1107062 ]\n",
      " [0.66603431 0.33396569]\n",
      " [0.49058168 0.50941832]\n",
      " [0.42629962 0.57370038]\n",
      " [0.68422948 0.31577052]\n",
      " [0.69054192 0.30945808]\n",
      " [0.47676842 0.52323158]\n",
      " [0.76630336 0.23369664]\n",
      " [0.93519735 0.06480265]\n",
      " [0.33278114 0.66721886]\n",
      " [0.91446976 0.08553024]\n",
      " [0.73580302 0.26419698]\n",
      " [0.83627328 0.16372672]\n",
      " [0.4273421  0.5726579 ]\n",
      " [0.96473662 0.03526338]\n",
      " [0.96110191 0.03889809]\n",
      " [0.92717506 0.07282494]\n",
      " [0.95843701 0.04156299]\n",
      " [0.0958023  0.9041977 ]\n",
      " [0.5017177  0.4982823 ]\n",
      " [0.37537178 0.62462822]\n",
      " [0.39515006 0.60484994]\n",
      " [0.75996158 0.24003842]\n",
      " [0.47366034 0.52633966]\n",
      " [0.95371514 0.04628486]\n",
      " [0.86192404 0.13807596]\n",
      " [0.94871521 0.05128479]\n",
      " [0.52729111 0.47270889]\n",
      " [0.84815431 0.15184569]\n",
      " [0.70505055 0.29494945]\n",
      " [0.81886147 0.18113853]\n",
      " [0.32857905 0.67142095]\n",
      " [0.90382379 0.09617621]\n",
      " [0.39630822 0.60369178]\n",
      " [0.12340644 0.87659356]\n",
      " [0.85162445 0.14837555]\n",
      " [0.63440052 0.36559948]\n",
      " [0.939218   0.060782  ]\n",
      " [0.92756146 0.07243854]\n",
      " [0.89714012 0.10285988]\n",
      " [0.89019765 0.10980235]\n",
      " [0.94574427 0.05425573]\n",
      " [0.95830914 0.04169086]\n",
      " [0.94186307 0.05813693]\n",
      " [0.80961959 0.19038041]\n",
      " [0.75679705 0.24320295]\n",
      " [0.61278009 0.38721991]\n",
      " [0.80116775 0.19883225]\n",
      " [0.68946385 0.31053615]\n",
      " [0.74560456 0.25439544]\n",
      " [0.35932387 0.64067613]\n",
      " [0.10684276 0.89315724]\n",
      " [0.91187513 0.08812487]\n",
      " [0.34823483 0.65176517]\n",
      " [0.43386923 0.56613077]\n",
      " [0.91649225 0.08350775]\n",
      " [0.51930076 0.48069924]\n",
      " [0.9179728  0.0820272 ]\n",
      " [0.05417533 0.94582467]\n",
      " [0.71455531 0.28544469]\n",
      " [0.44395272 0.55604728]\n",
      " [0.9447986  0.0552014 ]\n",
      " [0.50974499 0.49025501]\n",
      " [0.92670396 0.07329604]\n",
      " [0.50185242 0.49814758]\n",
      " [0.63314678 0.36685322]\n",
      " [0.62008632 0.37991368]\n",
      " [0.8452082  0.1547918 ]\n",
      " [0.0424844  0.9575156 ]\n",
      " [0.81207069 0.18792931]\n",
      " [0.88940113 0.11059887]\n",
      " [0.9531212  0.0468788 ]\n",
      " [0.94104495 0.05895505]\n",
      " [0.38696691 0.61303309]\n",
      " [0.59658853 0.40341147]\n",
      " [0.93241163 0.06758837]\n",
      " [0.72786703 0.27213297]\n",
      " [0.90143694 0.09856306]\n",
      " [0.84009615 0.15990385]\n",
      " [0.16570537 0.83429463]\n",
      " [0.97572238 0.02427762]\n",
      " [0.04199623 0.95800377]\n",
      " [0.14759515 0.85240485]\n",
      " [0.93898667 0.06101333]\n",
      " [0.37933352 0.62066648]\n",
      " [0.58958595 0.41041405]\n",
      " [0.87512067 0.12487933]\n",
      " [0.66623418 0.33376582]\n",
      " [0.82109926 0.17890074]\n",
      " [0.31851763 0.68148237]\n",
      " [0.94293081 0.05706919]\n",
      " [0.74970955 0.25029045]\n",
      " [0.65582142 0.34417858]\n",
      " [0.56528204 0.43471796]\n",
      " [0.18875671 0.81124329]\n",
      " [0.0455217  0.9544783 ]\n",
      " [0.22138897 0.77861103]\n",
      " [0.26837713 0.73162287]\n",
      " [0.841657   0.158343  ]\n",
      " [0.39599797 0.60400203]\n",
      " [0.45673935 0.54326065]\n",
      " [0.91142594 0.08857406]\n",
      " [0.8964172  0.1035828 ]\n",
      " [0.13289902 0.86710098]\n",
      " [0.90240314 0.09759686]\n",
      " [0.8329253  0.1670747 ]\n",
      " [0.59994428 0.40005572]\n",
      " [0.32948261 0.67051739]\n",
      " [0.05239475 0.94760525]\n",
      " [0.15036734 0.84963266]\n",
      " [0.72432758 0.27567242]\n",
      " [0.89893423 0.10106577]\n",
      " [0.59099811 0.40900189]\n",
      " [0.23304444 0.76695556]\n",
      " [0.22422791 0.77577209]\n",
      " [0.91708827 0.08291173]\n",
      " [0.91998395 0.08001605]]\n"
     ]
    }
   ],
   "source": [
    "probabilities = logistic_mod.predict_proba(Features1)\n",
    "print(probabilities[:500,:])"
   ]
  },
  {
   "cell_type": "code",
   "execution_count": 373,
   "metadata": {},
   "outputs": [
    {
     "name": "stdout",
     "output_type": "stream",
     "text": [
      "[0 1 0 0 0 0 1 1 1 0 0 0 0 0 0 0 0 0 1 0 0 0 1 0 0 0 0 1 1 0 1 0 0 0 1 1 1\n",
      " 0 0 0 0 0 0 0 0 0 0 1 1 0 0 1 0 0 0 0 0 0 0 0 0 0 0 1 0 1 1 1 0 1 1 0 0 0\n",
      " 0 1 1 1 0 0 1 0 0 1 0 0 0 1 1 0 0 1 0 0 0 1 0 0 0 0 0 0 0 1 0 0 0 0 0 0 1\n",
      " 0 0 0 0 1 0 0 0 1 1 0 1 0 1 0 0 0 1 1 0 0 1 0 0 1 1 0 1 0 0 0 1 0 1 0 0 0\n",
      " 0 0 1 0 0 0 0 0 0 0 1 1 0 0 1 0 1 0 1 1 0 0 0 1 0 0 0 0 1 0 0 1 0 0 1 0 0\n",
      " 0 1 0 0 0 0 0 0 0 0 0 0 0 0 1 0 0 0 1 1 0 1 1 0 1 0 0 1 0 0 1 0 0 1 1 0 0\n",
      " 1 1 0 0 0 1 1 0 1 0 0 0 0 0 1 0 0 0 1 0 0 0 1 0 0 0 1 1 1 0 0 0 1 1 0 0 1\n",
      " 0 0 0 0 0 1 1 0 1 1 0 1 0 0 0 0 0 1 0 1 0 0 0 0 0 0 0 0 0 0 0 0 0 0 1 0 1\n",
      " 1 0 0 0 0 0 1 0 0 0 1 1 1 1 0 1 1 0 0 0 0 0 1 0 0 0 0 0 1 0 0 1 0 0 1 0 1\n",
      " 0 1 1 1 0 1 0 0 0 0 1 0 0 1 0 1 0 0 1 0 0 0 1 1 0 0 0 1 0 0 0 0 0 0 0 0 0\n",
      " 1 0 0 0 0 0 0 0 0 1 1 1 0 0 0 1 1 0 0 1 0 0 1 0 0 0 1 0 0 0 0 1 0 1 1 0 1\n",
      " 0 0 0 0 0 0 0 1 0 1 1 0 0 0 0 0 0 0 0 0 0 0 0 0 0 0 1 1 0 1 1 0 0 0 1 0 1\n",
      " 0 0 0 0 0 0 0 1 0 0 0 0 1 0 0 0 0 0 1 0 1 1 0 1 0 0 0 0 1 0 0 0 0 1 1 1 1\n",
      " 0 1 1 0 0 1 0 0 0 1 1 1 0 0 0 1 1 0 0]\n"
     ]
    }
   ],
   "source": [
    "def score_model(probs, threshold):\n",
    "    return np.array([1 if x > threshold else 0 for x in probs[:,1]])\n",
    "scores = score_model(probabilities, 0.5)\n",
    "print(np.array(scores[:500]))\n",
    "#print(y_test[:15])"
   ]
  },
  {
   "cell_type": "markdown",
   "metadata": {},
   "source": [
    "### REGRESSION ANALYSIS"
   ]
  }
 ],
 "metadata": {
  "kernelspec": {
   "display_name": "Python 3",
   "language": "python",
   "name": "python3"
  },
  "language_info": {
   "codemirror_mode": {
    "name": "ipython",
    "version": 3
   },
   "file_extension": ".py",
   "mimetype": "text/x-python",
   "name": "python",
   "nbconvert_exporter": "python",
   "pygments_lexer": "ipython3",
   "version": "3.6.5"
  }
 },
 "nbformat": 4,
 "nbformat_minor": 2
}
